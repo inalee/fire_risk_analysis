{
 "cells": [
  {
   "cell_type": "code",
   "execution_count": 1,
   "metadata": {},
   "outputs": [],
   "source": [
    "import pandas as pd\n",
    "import numpy as np\n",
    "from sklearn.model_selection import train_test_split\n",
    "from sklearn.ensemble import RandomForestClassifier,RandomForestRegressor\n",
    "from sklearn.linear_model import LinearRegression\n",
    "import matplotlib.pyplot as plt\n",
    "import pickle\n",
    "from sklearn.externals import joblib\n",
    "from sklearn.metrics import mean_squared_error\n",
    "from sklearn.preprocessing import StandardScaler,LabelEncoder,MinMaxScaler\n",
    "import seaborn as sns\n",
    "plt.rcParams['font.family'] = 'Malgun Gothic'\n",
    "pd.set_option(\"display.max_columns\",500)"
   ]
  },
  {
   "cell_type": "markdown",
   "metadata": {},
   "source": [
    "## 화재강도 예측"
   ]
  },
  {
   "cell_type": "code",
   "execution_count": 2,
   "metadata": {
    "scrolled": true
   },
   "outputs": [],
   "source": [
    "train1 = pd.read_csv(\"건물별_화재강도_train.csv\",encoding='utf-8-sig',engine='python')\n",
    "train1 = train1.drop(['시군구명','동리명','관리건축물대장PK','시군구명.1','법정동코드2'],1)"
   ]
  },
  {
   "cell_type": "code",
   "execution_count": 3,
   "metadata": {
    "scrolled": true
   },
   "outputs": [
    {
     "data": {
      "text/plain": [
       "대지면적(㎡)             0\n",
       "건축면적(㎡)             0\n",
       "연면적(㎡)              0\n",
       "구조코드명               0\n",
       "주용도코드명              0\n",
       "높이(m)               0\n",
       "지상층수                0\n",
       "지하층수                0\n",
       "승용승강기수              0\n",
       "비상용승강기수             0\n",
       "빌딩연차                0\n",
       "기타용도                0\n",
       "공동주택                0\n",
       "공장                  0\n",
       "단독주택                0\n",
       "문화및집회시설             0\n",
       "숙박시설                0\n",
       "업무시설                0\n",
       "위험물저장및처리시설          0\n",
       "제1종근린생활시설           0\n",
       "제2종근린생활시설           0\n",
       "창고시설                0\n",
       "면적                  0\n",
       "휴게음식점               0\n",
       "일반음식점               0\n",
       "제과점                 0\n",
       "단란주점                0\n",
       "유흥주점                0\n",
       "사업체수                0\n",
       "숙박 및 음식점업 사업체수      0\n",
       "RN_COUNT            0\n",
       "RN_COUNT_under4     0\n",
       "ROAD_BT_MEAN        0\n",
       "RN_length_under4    0\n",
       "RN_length_under3    0\n",
       "RN_COUNT_under3     0\n",
       "RN_length_under2    0\n",
       "RN_COUNT_under2     0\n",
       "RN_under4_rate      0\n",
       "RN_under3_rate      0\n",
       "RN_under2_rate      0\n",
       "비상소화장치_count        0\n",
       "소화용수_count          0\n",
       "가판대_count           0\n",
       "공영주차장수              0\n",
       "주차 면(주차 가능 차량 수)    0\n",
       "건물수                 0\n",
       "건물구조조               0\n",
       "건물구조즙               0\n",
       "장소중분류               0\n",
       "장소소분류               0\n",
       "소방서거리(㎞)            0\n",
       "안전센터거리              0\n",
       "부동산                 2\n",
       "동산                  2\n",
       "재산피해소계              0\n",
       "관할인구(명)             0\n",
       "관할면적(km2)           0\n",
       "dtype: int64"
      ]
     },
     "execution_count": 3,
     "metadata": {},
     "output_type": "execute_result"
    }
   ],
   "source": [
    "# 결측치찾기\n",
    "train1.isnull().sum()"
   ]
  },
  {
   "cell_type": "code",
   "execution_count": 26,
   "metadata": {},
   "outputs": [],
   "source": [
    "# 결측치 -> 0 으로 대체\n",
    "train1.fillna(0,inplace=True)"
   ]
  },
  {
   "cell_type": "markdown",
   "metadata": {},
   "source": [
    "### y변수 EDA"
   ]
  },
  {
   "cell_type": "code",
   "execution_count": 4,
   "metadata": {
    "scrolled": true
   },
   "outputs": [
    {
     "data": {
      "text/plain": [
       "count     423.000000\n",
       "mean      195.957447\n",
       "std       327.845831\n",
       "min         0.000000\n",
       "25%        20.000000\n",
       "50%        50.000000\n",
       "75%       203.000000\n",
       "max      1569.000000\n",
       "Name: 재산피해소계, dtype: float64"
      ]
     },
     "execution_count": 4,
     "metadata": {},
     "output_type": "execute_result"
    }
   ],
   "source": [
    "# y변수 통계값 도출\n",
    "train1['재산피해소계'].describe()"
   ]
  },
  {
   "cell_type": "code",
   "execution_count": 5,
   "metadata": {
    "scrolled": false
   },
   "outputs": [
    {
     "data": {
      "text/plain": [
       "<matplotlib.axes._subplots.AxesSubplot at 0x1e225375710>"
      ]
     },
     "execution_count": 5,
     "metadata": {},
     "output_type": "execute_result"
    },
    {
     "data": {
      "image/png": "[encoded data removed]",
      "text/plain": [
       "<Figure size 432x288 with 1 Axes>"
      ]
     },
     "metadata": {
      "needs_background": "light"
     },
     "output_type": "display_data"
    }
   ],
   "source": [
    "train1['재산피해소계'].hist()"
   ]
  },
  {
   "cell_type": "code",
   "execution_count": 6,
   "metadata": {
    "scrolled": true
   },
   "outputs": [
    {
     "data": {
      "text/plain": [
       "423"
      ]
     },
     "execution_count": 6,
     "metadata": {},
     "output_type": "execute_result"
    }
   ],
   "source": [
    "len(train1)"
   ]
  },
  {
   "cell_type": "code",
   "execution_count": 7,
   "metadata": {},
   "outputs": [
    {
     "data": {
      "text/html": [
       "<div>\n",
       "<style scoped>\n",
       "    .dataframe tbody tr th:only-of-type {\n",
       "        vertical-align: middle;\n",
       "    }\n",
       "\n",
       "    .dataframe tbody tr th {\n",
       "        vertical-align: top;\n",
       "    }\n",
       "\n",
       "    .dataframe thead th {\n",
       "        text-align: right;\n",
       "    }\n",
       "</style>\n",
       "<table border=\"1\" class=\"dataframe\">\n",
       "  <thead>\n",
       "    <tr style=\"text-align: right;\">\n",
       "      <th></th>\n",
       "      <th>대지면적(㎡)</th>\n",
       "      <th>건축면적(㎡)</th>\n",
       "      <th>연면적(㎡)</th>\n",
       "      <th>높이(m)</th>\n",
       "      <th>지상층수</th>\n",
       "      <th>지하층수</th>\n",
       "      <th>승용승강기수</th>\n",
       "      <th>비상용승강기수</th>\n",
       "      <th>빌딩연차</th>\n",
       "      <th>공동주택</th>\n",
       "      <th>공장</th>\n",
       "      <th>단독주택</th>\n",
       "      <th>문화및집회시설</th>\n",
       "      <th>숙박시설</th>\n",
       "      <th>업무시설</th>\n",
       "      <th>위험물저장및처리시설</th>\n",
       "      <th>제1종근린생활시설</th>\n",
       "      <th>제2종근린생활시설</th>\n",
       "      <th>창고시설</th>\n",
       "      <th>면적</th>\n",
       "      <th>휴게음식점</th>\n",
       "      <th>일반음식점</th>\n",
       "      <th>제과점</th>\n",
       "      <th>단란주점</th>\n",
       "      <th>유흥주점</th>\n",
       "      <th>사업체수</th>\n",
       "      <th>숙박 및 음식점업 사업체수</th>\n",
       "      <th>RN_COUNT</th>\n",
       "      <th>RN_COUNT_under4</th>\n",
       "      <th>ROAD_BT_MEAN</th>\n",
       "      <th>RN_length_under4</th>\n",
       "      <th>RN_length_under3</th>\n",
       "      <th>RN_COUNT_under3</th>\n",
       "      <th>RN_length_under2</th>\n",
       "      <th>RN_COUNT_under2</th>\n",
       "      <th>RN_under4_rate</th>\n",
       "      <th>RN_under3_rate</th>\n",
       "      <th>RN_under2_rate</th>\n",
       "      <th>비상소화장치_count</th>\n",
       "      <th>소화용수_count</th>\n",
       "      <th>가판대_count</th>\n",
       "      <th>공영주차장수</th>\n",
       "      <th>주차 면(주차 가능 차량 수)</th>\n",
       "      <th>건물수</th>\n",
       "      <th>소방서거리(㎞)</th>\n",
       "      <th>안전센터거리</th>\n",
       "      <th>부동산</th>\n",
       "      <th>동산</th>\n",
       "      <th>재산피해소계</th>\n",
       "      <th>관할인구(명)</th>\n",
       "      <th>관할면적(km2)</th>\n",
       "    </tr>\n",
       "  </thead>\n",
       "  <tbody>\n",
       "    <tr>\n",
       "      <th>count</th>\n",
       "      <td>423.000000</td>\n",
       "      <td>423.000000</td>\n",
       "      <td>423.000000</td>\n",
       "      <td>423.000000</td>\n",
       "      <td>423.000000</td>\n",
       "      <td>423.000000</td>\n",
       "      <td>423.000000</td>\n",
       "      <td>423.000000</td>\n",
       "      <td>423.000000</td>\n",
       "      <td>423.000000</td>\n",
       "      <td>423.00000</td>\n",
       "      <td>423.000000</td>\n",
       "      <td>423.000000</td>\n",
       "      <td>423.000000</td>\n",
       "      <td>423.000000</td>\n",
       "      <td>423.000000</td>\n",
       "      <td>423.000000</td>\n",
       "      <td>423.000000</td>\n",
       "      <td>423.000000</td>\n",
       "      <td>423.000000</td>\n",
       "      <td>423.000000</td>\n",
       "      <td>423.000000</td>\n",
       "      <td>423.000000</td>\n",
       "      <td>423.000000</td>\n",
       "      <td>423.000000</td>\n",
       "      <td>423.000000</td>\n",
       "      <td>423.000000</td>\n",
       "      <td>423.000000</td>\n",
       "      <td>423.000000</td>\n",
       "      <td>423.000000</td>\n",
       "      <td>423.000000</td>\n",
       "      <td>423.000000</td>\n",
       "      <td>423.000000</td>\n",
       "      <td>423.000000</td>\n",
       "      <td>423.000000</td>\n",
       "      <td>423.000000</td>\n",
       "      <td>423.000000</td>\n",
       "      <td>423.000000</td>\n",
       "      <td>423.000000</td>\n",
       "      <td>423.000000</td>\n",
       "      <td>423.000000</td>\n",
       "      <td>423.000000</td>\n",
       "      <td>423.000000</td>\n",
       "      <td>423.000000</td>\n",
       "      <td>423.000000</td>\n",
       "      <td>423.000000</td>\n",
       "      <td>421.000000</td>\n",
       "      <td>421.000000</td>\n",
       "      <td>423.000000</td>\n",
       "      <td>423.000000</td>\n",
       "      <td>423.000000</td>\n",
       "    </tr>\n",
       "    <tr>\n",
       "      <th>mean</th>\n",
       "      <td>1029.756917</td>\n",
       "      <td>345.443002</td>\n",
       "      <td>3292.400520</td>\n",
       "      <td>12.723080</td>\n",
       "      <td>5.910165</td>\n",
       "      <td>0.834515</td>\n",
       "      <td>0.423168</td>\n",
       "      <td>0.085106</td>\n",
       "      <td>23.531915</td>\n",
       "      <td>1332.534474</td>\n",
       "      <td>18.79824</td>\n",
       "      <td>2892.525397</td>\n",
       "      <td>3.470705</td>\n",
       "      <td>22.046580</td>\n",
       "      <td>64.370313</td>\n",
       "      <td>5.561175</td>\n",
       "      <td>453.456445</td>\n",
       "      <td>405.542312</td>\n",
       "      <td>10.133412</td>\n",
       "      <td>1.667058</td>\n",
       "      <td>76.161454</td>\n",
       "      <td>300.736923</td>\n",
       "      <td>9.575752</td>\n",
       "      <td>7.147906</td>\n",
       "      <td>4.765062</td>\n",
       "      <td>1989.356232</td>\n",
       "      <td>327.187568</td>\n",
       "      <td>607.997742</td>\n",
       "      <td>220.626031</td>\n",
       "      <td>5.423627</td>\n",
       "      <td>641.026517</td>\n",
       "      <td>623.372067</td>\n",
       "      <td>102.443246</td>\n",
       "      <td>821.689090</td>\n",
       "      <td>27.108670</td>\n",
       "      <td>0.345319</td>\n",
       "      <td>0.152626</td>\n",
       "      <td>0.039941</td>\n",
       "      <td>16.409066</td>\n",
       "      <td>515.925678</td>\n",
       "      <td>4.705317</td>\n",
       "      <td>7.572162</td>\n",
       "      <td>85.911989</td>\n",
       "      <td>5239.317583</td>\n",
       "      <td>3.398582</td>\n",
       "      <td>1.629787</td>\n",
       "      <td>74.912114</td>\n",
       "      <td>121.976247</td>\n",
       "      <td>195.957447</td>\n",
       "      <td>104289.683215</td>\n",
       "      <td>5.982695</td>\n",
       "    </tr>\n",
       "    <tr>\n",
       "      <th>std</th>\n",
       "      <td>5213.940494</td>\n",
       "      <td>985.419369</td>\n",
       "      <td>13259.543421</td>\n",
       "      <td>18.219838</td>\n",
       "      <td>6.074300</td>\n",
       "      <td>0.646566</td>\n",
       "      <td>1.724683</td>\n",
       "      <td>0.453883</td>\n",
       "      <td>11.939948</td>\n",
       "      <td>1216.061562</td>\n",
       "      <td>55.79173</td>\n",
       "      <td>2580.067881</td>\n",
       "      <td>3.536854</td>\n",
       "      <td>32.454895</td>\n",
       "      <td>88.965155</td>\n",
       "      <td>3.861309</td>\n",
       "      <td>340.559487</td>\n",
       "      <td>369.575535</td>\n",
       "      <td>12.133724</td>\n",
       "      <td>1.440343</td>\n",
       "      <td>68.431015</td>\n",
       "      <td>238.716419</td>\n",
       "      <td>6.833238</td>\n",
       "      <td>7.895599</td>\n",
       "      <td>7.898015</td>\n",
       "      <td>1558.607731</td>\n",
       "      <td>246.017535</td>\n",
       "      <td>531.452346</td>\n",
       "      <td>268.979960</td>\n",
       "      <td>1.680225</td>\n",
       "      <td>1747.011214</td>\n",
       "      <td>1562.654102</td>\n",
       "      <td>153.556499</td>\n",
       "      <td>2891.124982</td>\n",
       "      <td>52.962947</td>\n",
       "      <td>0.202120</td>\n",
       "      <td>0.123248</td>\n",
       "      <td>0.058377</td>\n",
       "      <td>21.466024</td>\n",
       "      <td>369.148672</td>\n",
       "      <td>6.104505</td>\n",
       "      <td>6.705597</td>\n",
       "      <td>51.978964</td>\n",
       "      <td>4276.052700</td>\n",
       "      <td>1.716507</td>\n",
       "      <td>0.847501</td>\n",
       "      <td>196.101296</td>\n",
       "      <td>204.863600</td>\n",
       "      <td>327.845831</td>\n",
       "      <td>35880.840941</td>\n",
       "      <td>3.657147</td>\n",
       "    </tr>\n",
       "    <tr>\n",
       "      <th>min</th>\n",
       "      <td>0.000000</td>\n",
       "      <td>0.000000</td>\n",
       "      <td>12.000000</td>\n",
       "      <td>0.000000</td>\n",
       "      <td>1.000000</td>\n",
       "      <td>0.000000</td>\n",
       "      <td>0.000000</td>\n",
       "      <td>0.000000</td>\n",
       "      <td>1.000000</td>\n",
       "      <td>2.684783</td>\n",
       "      <td>0.00000</td>\n",
       "      <td>0.000000</td>\n",
       "      <td>0.000000</td>\n",
       "      <td>0.000000</td>\n",
       "      <td>0.000000</td>\n",
       "      <td>0.000000</td>\n",
       "      <td>15.600000</td>\n",
       "      <td>16.400000</td>\n",
       "      <td>0.000000</td>\n",
       "      <td>0.266667</td>\n",
       "      <td>20.333333</td>\n",
       "      <td>84.750000</td>\n",
       "      <td>2.500000</td>\n",
       "      <td>0.000000</td>\n",
       "      <td>0.000000</td>\n",
       "      <td>557.000000</td>\n",
       "      <td>105.000000</td>\n",
       "      <td>19.652778</td>\n",
       "      <td>0.000000</td>\n",
       "      <td>2.592041</td>\n",
       "      <td>0.000000</td>\n",
       "      <td>0.000000</td>\n",
       "      <td>0.000000</td>\n",
       "      <td>0.000000</td>\n",
       "      <td>0.000000</td>\n",
       "      <td>0.000000</td>\n",
       "      <td>0.000000</td>\n",
       "      <td>0.000000</td>\n",
       "      <td>0.000000</td>\n",
       "      <td>19.600000</td>\n",
       "      <td>0.000000</td>\n",
       "      <td>0.000000</td>\n",
       "      <td>0.000000</td>\n",
       "      <td>108.463043</td>\n",
       "      <td>0.200000</td>\n",
       "      <td>0.100000</td>\n",
       "      <td>0.000000</td>\n",
       "      <td>0.000000</td>\n",
       "      <td>0.000000</td>\n",
       "      <td>9957.000000</td>\n",
       "      <td>1.500000</td>\n",
       "    </tr>\n",
       "    <tr>\n",
       "      <th>25%</th>\n",
       "      <td>0.000000</td>\n",
       "      <td>78.075000</td>\n",
       "      <td>234.090000</td>\n",
       "      <td>0.000000</td>\n",
       "      <td>2.000000</td>\n",
       "      <td>0.500000</td>\n",
       "      <td>0.000000</td>\n",
       "      <td>0.000000</td>\n",
       "      <td>16.000000</td>\n",
       "      <td>447.000000</td>\n",
       "      <td>1.00000</td>\n",
       "      <td>830.458333</td>\n",
       "      <td>1.000000</td>\n",
       "      <td>3.000000</td>\n",
       "      <td>14.166667</td>\n",
       "      <td>2.500000</td>\n",
       "      <td>175.000000</td>\n",
       "      <td>179.000000</td>\n",
       "      <td>3.000000</td>\n",
       "      <td>0.960000</td>\n",
       "      <td>46.616667</td>\n",
       "      <td>198.125000</td>\n",
       "      <td>6.000000</td>\n",
       "      <td>3.000000</td>\n",
       "      <td>0.000000</td>\n",
       "      <td>1288.000000</td>\n",
       "      <td>225.000000</td>\n",
       "      <td>219.375000</td>\n",
       "      <td>67.000000</td>\n",
       "      <td>4.163973</td>\n",
       "      <td>56.044776</td>\n",
       "      <td>41.180723</td>\n",
       "      <td>19.000000</td>\n",
       "      <td>31.632000</td>\n",
       "      <td>1.750000</td>\n",
       "      <td>0.204334</td>\n",
       "      <td>0.054104</td>\n",
       "      <td>0.006010</td>\n",
       "      <td>4.000000</td>\n",
       "      <td>218.000000</td>\n",
       "      <td>1.000000</td>\n",
       "      <td>2.583333</td>\n",
       "      <td>60.187748</td>\n",
       "      <td>2190.000000</td>\n",
       "      <td>2.200000</td>\n",
       "      <td>1.000000</td>\n",
       "      <td>0.000000</td>\n",
       "      <td>20.000000</td>\n",
       "      <td>20.000000</td>\n",
       "      <td>81912.000000</td>\n",
       "      <td>3.530000</td>\n",
       "    </tr>\n",
       "    <tr>\n",
       "      <th>50%</th>\n",
       "      <td>133.500000</td>\n",
       "      <td>121.880000</td>\n",
       "      <td>491.360000</td>\n",
       "      <td>9.400000</td>\n",
       "      <td>4.000000</td>\n",
       "      <td>1.000000</td>\n",
       "      <td>0.000000</td>\n",
       "      <td>0.000000</td>\n",
       "      <td>24.000000</td>\n",
       "      <td>1001.000000</td>\n",
       "      <td>3.00000</td>\n",
       "      <td>2077.000000</td>\n",
       "      <td>3.000000</td>\n",
       "      <td>7.000000</td>\n",
       "      <td>31.900000</td>\n",
       "      <td>5.400000</td>\n",
       "      <td>372.000000</td>\n",
       "      <td>334.000000</td>\n",
       "      <td>6.000000</td>\n",
       "      <td>1.110000</td>\n",
       "      <td>57.500000</td>\n",
       "      <td>241.500000</td>\n",
       "      <td>7.625000</td>\n",
       "      <td>5.000000</td>\n",
       "      <td>2.000000</td>\n",
       "      <td>1589.500000</td>\n",
       "      <td>270.000000</td>\n",
       "      <td>384.000000</td>\n",
       "      <td>116.708333</td>\n",
       "      <td>5.172294</td>\n",
       "      <td>85.930707</td>\n",
       "      <td>73.839966</td>\n",
       "      <td>45.000000</td>\n",
       "      <td>58.319149</td>\n",
       "      <td>8.000000</td>\n",
       "      <td>0.345361</td>\n",
       "      <td>0.114983</td>\n",
       "      <td>0.018868</td>\n",
       "      <td>10.000000</td>\n",
       "      <td>394.000000</td>\n",
       "      <td>3.000000</td>\n",
       "      <td>5.250000</td>\n",
       "      <td>73.647059</td>\n",
       "      <td>4352.625000</td>\n",
       "      <td>3.200000</td>\n",
       "      <td>1.500000</td>\n",
       "      <td>0.000000</td>\n",
       "      <td>38.000000</td>\n",
       "      <td>50.000000</td>\n",
       "      <td>100403.000000</td>\n",
       "      <td>5.130000</td>\n",
       "    </tr>\n",
       "    <tr>\n",
       "      <th>75%</th>\n",
       "      <td>240.265000</td>\n",
       "      <td>285.005000</td>\n",
       "      <td>1297.960000</td>\n",
       "      <td>14.250000</td>\n",
       "      <td>5.000000</td>\n",
       "      <td>1.000000</td>\n",
       "      <td>0.000000</td>\n",
       "      <td>0.000000</td>\n",
       "      <td>29.500000</td>\n",
       "      <td>1688.000000</td>\n",
       "      <td>8.00000</td>\n",
       "      <td>4163.500000</td>\n",
       "      <td>4.937500</td>\n",
       "      <td>29.500000</td>\n",
       "      <td>70.000000</td>\n",
       "      <td>8.000000</td>\n",
       "      <td>721.071429</td>\n",
       "      <td>476.000000</td>\n",
       "      <td>11.750000</td>\n",
       "      <td>1.842222</td>\n",
       "      <td>80.333333</td>\n",
       "      <td>316.500000</td>\n",
       "      <td>10.666667</td>\n",
       "      <td>9.500000</td>\n",
       "      <td>5.000000</td>\n",
       "      <td>2012.000000</td>\n",
       "      <td>330.400000</td>\n",
       "      <td>934.500000</td>\n",
       "      <td>249.500000</td>\n",
       "      <td>6.340909</td>\n",
       "      <td>627.681838</td>\n",
       "      <td>400.342738</td>\n",
       "      <td>105.375000</td>\n",
       "      <td>552.000000</td>\n",
       "      <td>22.000000</td>\n",
       "      <td>0.482625</td>\n",
       "      <td>0.238366</td>\n",
       "      <td>0.044903</td>\n",
       "      <td>17.000000</td>\n",
       "      <td>817.200000</td>\n",
       "      <td>5.000000</td>\n",
       "      <td>11.000000</td>\n",
       "      <td>102.426136</td>\n",
       "      <td>7134.000000</td>\n",
       "      <td>4.200000</td>\n",
       "      <td>2.100000</td>\n",
       "      <td>44.000000</td>\n",
       "      <td>117.000000</td>\n",
       "      <td>203.000000</td>\n",
       "      <td>131158.000000</td>\n",
       "      <td>6.875000</td>\n",
       "    </tr>\n",
       "    <tr>\n",
       "      <th>max</th>\n",
       "      <td>45601.340000</td>\n",
       "      <td>11633.100000</td>\n",
       "      <td>226180.460000</td>\n",
       "      <td>150.600000</td>\n",
       "      <td>46.000000</td>\n",
       "      <td>6.000000</td>\n",
       "      <td>24.000000</td>\n",
       "      <td>5.000000</td>\n",
       "      <td>74.000000</td>\n",
       "      <td>5320.437500</td>\n",
       "      <td>379.00000</td>\n",
       "      <td>11013.000000</td>\n",
       "      <td>31.500000</td>\n",
       "      <td>125.000000</td>\n",
       "      <td>561.000000</td>\n",
       "      <td>18.000000</td>\n",
       "      <td>1330.000000</td>\n",
       "      <td>1980.000000</td>\n",
       "      <td>52.000000</td>\n",
       "      <td>11.530000</td>\n",
       "      <td>579.000000</td>\n",
       "      <td>2623.000000</td>\n",
       "      <td>53.000000</td>\n",
       "      <td>55.000000</td>\n",
       "      <td>56.500000</td>\n",
       "      <td>14339.000000</td>\n",
       "      <td>2720.000000</td>\n",
       "      <td>2261.000000</td>\n",
       "      <td>1167.000000</td>\n",
       "      <td>19.372549</td>\n",
       "      <td>12314.328704</td>\n",
       "      <td>10515.666667</td>\n",
       "      <td>744.000000</td>\n",
       "      <td>25215.000000</td>\n",
       "      <td>373.000000</td>\n",
       "      <td>0.880000</td>\n",
       "      <td>0.651240</td>\n",
       "      <td>0.616529</td>\n",
       "      <td>109.000000</td>\n",
       "      <td>1691.000000</td>\n",
       "      <td>32.000000</td>\n",
       "      <td>31.000000</td>\n",
       "      <td>401.000000</td>\n",
       "      <td>18231.000000</td>\n",
       "      <td>10.000000</td>\n",
       "      <td>7.000000</td>\n",
       "      <td>1435.000000</td>\n",
       "      <td>1527.000000</td>\n",
       "      <td>1569.000000</td>\n",
       "      <td>184449.000000</td>\n",
       "      <td>20.240000</td>\n",
       "    </tr>\n",
       "  </tbody>\n",
       "</table>\n",
       "</div>"
      ],
      "text/plain": [
       "            대지면적(㎡)       건축면적(㎡)         연면적(㎡)       높이(m)        지상층수  \\\n",
       "count    423.000000    423.000000     423.000000  423.000000  423.000000   \n",
       "mean    1029.756917    345.443002    3292.400520   12.723080    5.910165   \n",
       "std     5213.940494    985.419369   13259.543421   18.219838    6.074300   \n",
       "min        0.000000      0.000000      12.000000    0.000000    1.000000   \n",
       "25%        0.000000     78.075000     234.090000    0.000000    2.000000   \n",
       "50%      133.500000    121.880000     491.360000    9.400000    4.000000   \n",
       "75%      240.265000    285.005000    1297.960000   14.250000    5.000000   \n",
       "max    45601.340000  11633.100000  226180.460000  150.600000   46.000000   \n",
       "\n",
       "             지하층수      승용승강기수     비상용승강기수        빌딩연차         공동주택         공장  \\\n",
       "count  423.000000  423.000000  423.000000  423.000000   423.000000  423.00000   \n",
       "mean     0.834515    0.423168    0.085106   23.531915  1332.534474   18.79824   \n",
       "std      0.646566    1.724683    0.453883   11.939948  1216.061562   55.79173   \n",
       "min      0.000000    0.000000    0.000000    1.000000     2.684783    0.00000   \n",
       "25%      0.500000    0.000000    0.000000   16.000000   447.000000    1.00000   \n",
       "50%      1.000000    0.000000    0.000000   24.000000  1001.000000    3.00000   \n",
       "75%      1.000000    0.000000    0.000000   29.500000  1688.000000    8.00000   \n",
       "max      6.000000   24.000000    5.000000   74.000000  5320.437500  379.00000   \n",
       "\n",
       "               단독주택     문화및집회시설        숙박시설        업무시설  위험물저장및처리시설  \\\n",
       "count    423.000000  423.000000  423.000000  423.000000  423.000000   \n",
       "mean    2892.525397    3.470705   22.046580   64.370313    5.561175   \n",
       "std     2580.067881    3.536854   32.454895   88.965155    3.861309   \n",
       "min        0.000000    0.000000    0.000000    0.000000    0.000000   \n",
       "25%      830.458333    1.000000    3.000000   14.166667    2.500000   \n",
       "50%     2077.000000    3.000000    7.000000   31.900000    5.400000   \n",
       "75%     4163.500000    4.937500   29.500000   70.000000    8.000000   \n",
       "max    11013.000000   31.500000  125.000000  561.000000   18.000000   \n",
       "\n",
       "         제1종근린생활시설    제2종근린생활시설        창고시설          면적       휴게음식점  \\\n",
       "count   423.000000   423.000000  423.000000  423.000000  423.000000   \n",
       "mean    453.456445   405.542312   10.133412    1.667058   76.161454   \n",
       "std     340.559487   369.575535   12.133724    1.440343   68.431015   \n",
       "min      15.600000    16.400000    0.000000    0.266667   20.333333   \n",
       "25%     175.000000   179.000000    3.000000    0.960000   46.616667   \n",
       "50%     372.000000   334.000000    6.000000    1.110000   57.500000   \n",
       "75%     721.071429   476.000000   11.750000    1.842222   80.333333   \n",
       "max    1330.000000  1980.000000   52.000000   11.530000  579.000000   \n",
       "\n",
       "             일반음식점         제과점        단란주점        유흥주점          사업체수  \\\n",
       "count   423.000000  423.000000  423.000000  423.000000    423.000000   \n",
       "mean    300.736923    9.575752    7.147906    4.765062   1989.356232   \n",
       "std     238.716419    6.833238    7.895599    7.898015   1558.607731   \n",
       "min      84.750000    2.500000    0.000000    0.000000    557.000000   \n",
       "25%     198.125000    6.000000    3.000000    0.000000   1288.000000   \n",
       "50%     241.500000    7.625000    5.000000    2.000000   1589.500000   \n",
       "75%     316.500000   10.666667    9.500000    5.000000   2012.000000   \n",
       "max    2623.000000   53.000000   55.000000   56.500000  14339.000000   \n",
       "\n",
       "       숙박 및 음식점업 사업체수     RN_COUNT  RN_COUNT_under4  ROAD_BT_MEAN  \\\n",
       "count      423.000000   423.000000       423.000000    423.000000   \n",
       "mean       327.187568   607.997742       220.626031      5.423627   \n",
       "std        246.017535   531.452346       268.979960      1.680225   \n",
       "min        105.000000    19.652778         0.000000      2.592041   \n",
       "25%        225.000000   219.375000        67.000000      4.163973   \n",
       "50%        270.000000   384.000000       116.708333      5.172294   \n",
       "75%        330.400000   934.500000       249.500000      6.340909   \n",
       "max       2720.000000  2261.000000      1167.000000     19.372549   \n",
       "\n",
       "       RN_length_under4  RN_length_under3  RN_COUNT_under3  RN_length_under2  \\\n",
       "count        423.000000        423.000000       423.000000        423.000000   \n",
       "mean         641.026517        623.372067       102.443246        821.689090   \n",
       "std         1747.011214       1562.654102       153.556499       2891.124982   \n",
       "min            0.000000          0.000000         0.000000          0.000000   \n",
       "25%           56.044776         41.180723        19.000000         31.632000   \n",
       "50%           85.930707         73.839966        45.000000         58.319149   \n",
       "75%          627.681838        400.342738       105.375000        552.000000   \n",
       "max        12314.328704      10515.666667       744.000000      25215.000000   \n",
       "\n",
       "       RN_COUNT_under2  RN_under4_rate  RN_under3_rate  RN_under2_rate  \\\n",
       "count       423.000000      423.000000      423.000000      423.000000   \n",
       "mean         27.108670        0.345319        0.152626        0.039941   \n",
       "std          52.962947        0.202120        0.123248        0.058377   \n",
       "min           0.000000        0.000000        0.000000        0.000000   \n",
       "25%           1.750000        0.204334        0.054104        0.006010   \n",
       "50%           8.000000        0.345361        0.114983        0.018868   \n",
       "75%          22.000000        0.482625        0.238366        0.044903   \n",
       "max         373.000000        0.880000        0.651240        0.616529   \n",
       "\n",
       "       비상소화장치_count   소화용수_count   가판대_count      공영주차장수  주차 면(주차 가능 차량 수)  \\\n",
       "count    423.000000   423.000000  423.000000  423.000000        423.000000   \n",
       "mean      16.409066   515.925678    4.705317    7.572162         85.911989   \n",
       "std       21.466024   369.148672    6.104505    6.705597         51.978964   \n",
       "min        0.000000    19.600000    0.000000    0.000000          0.000000   \n",
       "25%        4.000000   218.000000    1.000000    2.583333         60.187748   \n",
       "50%       10.000000   394.000000    3.000000    5.250000         73.647059   \n",
       "75%       17.000000   817.200000    5.000000   11.000000        102.426136   \n",
       "max      109.000000  1691.000000   32.000000   31.000000        401.000000   \n",
       "\n",
       "                건물수    소방서거리(㎞)      안전센터거리          부동산           동산  \\\n",
       "count    423.000000  423.000000  423.000000   421.000000   421.000000   \n",
       "mean    5239.317583    3.398582    1.629787    74.912114   121.976247   \n",
       "std     4276.052700    1.716507    0.847501   196.101296   204.863600   \n",
       "min      108.463043    0.200000    0.100000     0.000000     0.000000   \n",
       "25%     2190.000000    2.200000    1.000000     0.000000    20.000000   \n",
       "50%     4352.625000    3.200000    1.500000     0.000000    38.000000   \n",
       "75%     7134.000000    4.200000    2.100000    44.000000   117.000000   \n",
       "max    18231.000000   10.000000    7.000000  1435.000000  1527.000000   \n",
       "\n",
       "            재산피해소계        관할인구(명)   관할면적(km2)  \n",
       "count   423.000000     423.000000  423.000000  \n",
       "mean    195.957447  104289.683215    5.982695  \n",
       "std     327.845831   35880.840941    3.657147  \n",
       "min       0.000000    9957.000000    1.500000  \n",
       "25%      20.000000   81912.000000    3.530000  \n",
       "50%      50.000000  100403.000000    5.130000  \n",
       "75%     203.000000  131158.000000    6.875000  \n",
       "max    1569.000000  184449.000000   20.240000  "
      ]
     },
     "execution_count": 7,
     "metadata": {},
     "output_type": "execute_result"
    }
   ],
   "source": [
    "train1.describe()"
   ]
  },
  {
   "cell_type": "markdown",
   "metadata": {},
   "source": [
    "### x변수 EDA"
   ]
  },
  {
   "cell_type": "code",
   "execution_count": 8,
   "metadata": {
    "scrolled": true
   },
   "outputs": [],
   "source": [
    "X1 = train1.drop([\"부동산\",\"동산\",\"재산피해소계\",'공동주택', '공장', '단독주택','연면적(㎡)','대지면적(㎡)',\n",
    "       '문화및집회시설', '숙박시설', '업무시설', '위험물저장및처리시설', '제1종근린생활시설', '제2종근린생활시설',\n",
    "       '창고시설', '면적', '휴게음식점', '일반음식점', '제과점', '단란주점', '유흥주점','구조코드명','RN_COUNT','주용도코드명',\n",
    "       '숙박 및 음식점업 사업체수','승용승강기수','비상용승강기수','가판대_count','장소중분류','사업체수','건물수','기타용도','건물구조즙',\n",
    "                 'RN_COUNT_under4','RN_COUNT_under3','RN_COUNT_under2'],1)\n",
    "y1 = train1['재산피해소계']"
   ]
  },
  {
   "cell_type": "code",
   "execution_count": 9,
   "metadata": {
    "scrolled": true
   },
   "outputs": [
    {
     "data": {
      "text/plain": [
       "Index(['건축면적(㎡)', '높이(m)', '지상층수', '지하층수', '빌딩연차', 'ROAD_BT_MEAN',\n",
       "       'RN_length_under4', 'RN_length_under3', 'RN_length_under2',\n",
       "       'RN_under4_rate', 'RN_under3_rate', 'RN_under2_rate', '비상소화장치_count',\n",
       "       '소화용수_count', '공영주차장수', '주차 면(주차 가능 차량 수)', '건물구조조', '장소소분류',\n",
       "       '소방서거리(㎞)', '안전센터거리', '관할인구(명)', '관할면적(km2)'],\n",
       "      dtype='object')"
      ]
     },
     "execution_count": 9,
     "metadata": {},
     "output_type": "execute_result"
    }
   ],
   "source": [
    "X1.columns"
   ]
  },
  {
   "cell_type": "code",
   "execution_count": 10,
   "metadata": {},
   "outputs": [
    {
     "data": {
      "text/plain": [
       "철근콘크리트조    307\n",
       "벽돌조         98\n",
       "블록조          7\n",
       "목조           6\n",
       "기타 조         3\n",
       "샌드위치패널조      1\n",
       "치장벽돌조        1\n",
       "Name: 건물구조조, dtype: int64"
      ]
     },
     "execution_count": 10,
     "metadata": {},
     "output_type": "execute_result"
    }
   ],
   "source": [
    "X1['건물구조조'].value_counts()"
   ]
  },
  {
   "cell_type": "code",
   "execution_count": 11,
   "metadata": {},
   "outputs": [
    {
     "data": {
      "text/plain": [
       "다가구주택                           107\n",
       "다세대주택                           106\n",
       "아파트                              87\n",
       "단독주택                             56\n",
       "연립주택                             25\n",
       "상가주택(주택부분에서 화재가 발생한 경우에만 해당)     11\n",
       "다중주택                              9\n",
       "주상복합아파트                           5\n",
       "기타 공동주택                           5\n",
       "모텔                                3\n",
       "호텔                                2\n",
       "성당                                1\n",
       "노인복지시설                            1\n",
       "교회                                1\n",
       "사회복지시설                            1\n",
       "유치원                               1\n",
       "기타 단독주택                           1\n",
       "쇼핑센터                              1\n",
       "Name: 장소소분류, dtype: int64"
      ]
     },
     "execution_count": 11,
     "metadata": {},
     "output_type": "execute_result"
    }
   ],
   "source": [
    "X1['장소소분류'].value_counts()"
   ]
  },
  {
   "cell_type": "code",
   "execution_count": 12,
   "metadata": {
    "scrolled": false
   },
   "outputs": [
    {
     "data": {
      "text/html": [
       "<div>\n",
       "<style scoped>\n",
       "    .dataframe tbody tr th:only-of-type {\n",
       "        vertical-align: middle;\n",
       "    }\n",
       "\n",
       "    .dataframe tbody tr th {\n",
       "        vertical-align: top;\n",
       "    }\n",
       "\n",
       "    .dataframe thead th {\n",
       "        text-align: right;\n",
       "    }\n",
       "</style>\n",
       "<table border=\"1\" class=\"dataframe\">\n",
       "  <thead>\n",
       "    <tr style=\"text-align: right;\">\n",
       "      <th></th>\n",
       "      <th>건축면적(㎡)</th>\n",
       "      <th>높이(m)</th>\n",
       "      <th>지상층수</th>\n",
       "      <th>지하층수</th>\n",
       "      <th>빌딩연차</th>\n",
       "      <th>ROAD_BT_MEAN</th>\n",
       "      <th>RN_length_under4</th>\n",
       "      <th>RN_length_under3</th>\n",
       "      <th>RN_length_under2</th>\n",
       "      <th>RN_under4_rate</th>\n",
       "      <th>RN_under3_rate</th>\n",
       "      <th>RN_under2_rate</th>\n",
       "      <th>비상소화장치_count</th>\n",
       "      <th>소화용수_count</th>\n",
       "      <th>공영주차장수</th>\n",
       "      <th>주차 면(주차 가능 차량 수)</th>\n",
       "      <th>소방서거리(㎞)</th>\n",
       "      <th>안전센터거리</th>\n",
       "      <th>관할인구(명)</th>\n",
       "      <th>관할면적(km2)</th>\n",
       "    </tr>\n",
       "  </thead>\n",
       "  <tbody>\n",
       "    <tr>\n",
       "      <th>count</th>\n",
       "      <td>423.000000</td>\n",
       "      <td>423.000000</td>\n",
       "      <td>423.000000</td>\n",
       "      <td>423.000000</td>\n",
       "      <td>423.000000</td>\n",
       "      <td>423.000000</td>\n",
       "      <td>423.000000</td>\n",
       "      <td>423.000000</td>\n",
       "      <td>423.000000</td>\n",
       "      <td>423.000000</td>\n",
       "      <td>423.000000</td>\n",
       "      <td>423.000000</td>\n",
       "      <td>423.000000</td>\n",
       "      <td>423.000000</td>\n",
       "      <td>423.000000</td>\n",
       "      <td>423.000000</td>\n",
       "      <td>423.000000</td>\n",
       "      <td>423.000000</td>\n",
       "      <td>423.000000</td>\n",
       "      <td>423.000000</td>\n",
       "    </tr>\n",
       "    <tr>\n",
       "      <th>mean</th>\n",
       "      <td>345.443002</td>\n",
       "      <td>12.723080</td>\n",
       "      <td>5.910165</td>\n",
       "      <td>0.834515</td>\n",
       "      <td>23.531915</td>\n",
       "      <td>5.423627</td>\n",
       "      <td>641.026517</td>\n",
       "      <td>623.372067</td>\n",
       "      <td>821.689090</td>\n",
       "      <td>0.345319</td>\n",
       "      <td>0.152626</td>\n",
       "      <td>0.039941</td>\n",
       "      <td>16.409066</td>\n",
       "      <td>515.925678</td>\n",
       "      <td>7.572162</td>\n",
       "      <td>85.911989</td>\n",
       "      <td>3.398582</td>\n",
       "      <td>1.629787</td>\n",
       "      <td>104289.683215</td>\n",
       "      <td>5.982695</td>\n",
       "    </tr>\n",
       "    <tr>\n",
       "      <th>std</th>\n",
       "      <td>985.419369</td>\n",
       "      <td>18.219838</td>\n",
       "      <td>6.074300</td>\n",
       "      <td>0.646566</td>\n",
       "      <td>11.939948</td>\n",
       "      <td>1.680225</td>\n",
       "      <td>1747.011214</td>\n",
       "      <td>1562.654102</td>\n",
       "      <td>2891.124982</td>\n",
       "      <td>0.202120</td>\n",
       "      <td>0.123248</td>\n",
       "      <td>0.058377</td>\n",
       "      <td>21.466024</td>\n",
       "      <td>369.148672</td>\n",
       "      <td>6.705597</td>\n",
       "      <td>51.978964</td>\n",
       "      <td>1.716507</td>\n",
       "      <td>0.847501</td>\n",
       "      <td>35880.840941</td>\n",
       "      <td>3.657147</td>\n",
       "    </tr>\n",
       "    <tr>\n",
       "      <th>min</th>\n",
       "      <td>0.000000</td>\n",
       "      <td>0.000000</td>\n",
       "      <td>1.000000</td>\n",
       "      <td>0.000000</td>\n",
       "      <td>1.000000</td>\n",
       "      <td>2.592041</td>\n",
       "      <td>0.000000</td>\n",
       "      <td>0.000000</td>\n",
       "      <td>0.000000</td>\n",
       "      <td>0.000000</td>\n",
       "      <td>0.000000</td>\n",
       "      <td>0.000000</td>\n",
       "      <td>0.000000</td>\n",
       "      <td>19.600000</td>\n",
       "      <td>0.000000</td>\n",
       "      <td>0.000000</td>\n",
       "      <td>0.200000</td>\n",
       "      <td>0.100000</td>\n",
       "      <td>9957.000000</td>\n",
       "      <td>1.500000</td>\n",
       "    </tr>\n",
       "    <tr>\n",
       "      <th>25%</th>\n",
       "      <td>78.075000</td>\n",
       "      <td>0.000000</td>\n",
       "      <td>2.000000</td>\n",
       "      <td>0.500000</td>\n",
       "      <td>16.000000</td>\n",
       "      <td>4.163973</td>\n",
       "      <td>56.044776</td>\n",
       "      <td>41.180723</td>\n",
       "      <td>31.632000</td>\n",
       "      <td>0.204334</td>\n",
       "      <td>0.054104</td>\n",
       "      <td>0.006010</td>\n",
       "      <td>4.000000</td>\n",
       "      <td>218.000000</td>\n",
       "      <td>2.583333</td>\n",
       "      <td>60.187748</td>\n",
       "      <td>2.200000</td>\n",
       "      <td>1.000000</td>\n",
       "      <td>81912.000000</td>\n",
       "      <td>3.530000</td>\n",
       "    </tr>\n",
       "    <tr>\n",
       "      <th>50%</th>\n",
       "      <td>121.880000</td>\n",
       "      <td>9.400000</td>\n",
       "      <td>4.000000</td>\n",
       "      <td>1.000000</td>\n",
       "      <td>24.000000</td>\n",
       "      <td>5.172294</td>\n",
       "      <td>85.930707</td>\n",
       "      <td>73.839966</td>\n",
       "      <td>58.319149</td>\n",
       "      <td>0.345361</td>\n",
       "      <td>0.114983</td>\n",
       "      <td>0.018868</td>\n",
       "      <td>10.000000</td>\n",
       "      <td>394.000000</td>\n",
       "      <td>5.250000</td>\n",
       "      <td>73.647059</td>\n",
       "      <td>3.200000</td>\n",
       "      <td>1.500000</td>\n",
       "      <td>100403.000000</td>\n",
       "      <td>5.130000</td>\n",
       "    </tr>\n",
       "    <tr>\n",
       "      <th>75%</th>\n",
       "      <td>285.005000</td>\n",
       "      <td>14.250000</td>\n",
       "      <td>5.000000</td>\n",
       "      <td>1.000000</td>\n",
       "      <td>29.500000</td>\n",
       "      <td>6.340909</td>\n",
       "      <td>627.681838</td>\n",
       "      <td>400.342738</td>\n",
       "      <td>552.000000</td>\n",
       "      <td>0.482625</td>\n",
       "      <td>0.238366</td>\n",
       "      <td>0.044903</td>\n",
       "      <td>17.000000</td>\n",
       "      <td>817.200000</td>\n",
       "      <td>11.000000</td>\n",
       "      <td>102.426136</td>\n",
       "      <td>4.200000</td>\n",
       "      <td>2.100000</td>\n",
       "      <td>131158.000000</td>\n",
       "      <td>6.875000</td>\n",
       "    </tr>\n",
       "    <tr>\n",
       "      <th>max</th>\n",
       "      <td>11633.100000</td>\n",
       "      <td>150.600000</td>\n",
       "      <td>46.000000</td>\n",
       "      <td>6.000000</td>\n",
       "      <td>74.000000</td>\n",
       "      <td>19.372549</td>\n",
       "      <td>12314.328704</td>\n",
       "      <td>10515.666667</td>\n",
       "      <td>25215.000000</td>\n",
       "      <td>0.880000</td>\n",
       "      <td>0.651240</td>\n",
       "      <td>0.616529</td>\n",
       "      <td>109.000000</td>\n",
       "      <td>1691.000000</td>\n",
       "      <td>31.000000</td>\n",
       "      <td>401.000000</td>\n",
       "      <td>10.000000</td>\n",
       "      <td>7.000000</td>\n",
       "      <td>184449.000000</td>\n",
       "      <td>20.240000</td>\n",
       "    </tr>\n",
       "  </tbody>\n",
       "</table>\n",
       "</div>"
      ],
      "text/plain": [
       "            건축면적(㎡)       높이(m)        지상층수        지하층수        빌딩연차  \\\n",
       "count    423.000000  423.000000  423.000000  423.000000  423.000000   \n",
       "mean     345.443002   12.723080    5.910165    0.834515   23.531915   \n",
       "std      985.419369   18.219838    6.074300    0.646566   11.939948   \n",
       "min        0.000000    0.000000    1.000000    0.000000    1.000000   \n",
       "25%       78.075000    0.000000    2.000000    0.500000   16.000000   \n",
       "50%      121.880000    9.400000    4.000000    1.000000   24.000000   \n",
       "75%      285.005000   14.250000    5.000000    1.000000   29.500000   \n",
       "max    11633.100000  150.600000   46.000000    6.000000   74.000000   \n",
       "\n",
       "       ROAD_BT_MEAN  RN_length_under4  RN_length_under3  RN_length_under2  \\\n",
       "count    423.000000        423.000000        423.000000        423.000000   \n",
       "mean       5.423627        641.026517        623.372067        821.689090   \n",
       "std        1.680225       1747.011214       1562.654102       2891.124982   \n",
       "min        2.592041          0.000000          0.000000          0.000000   \n",
       "25%        4.163973         56.044776         41.180723         31.632000   \n",
       "50%        5.172294         85.930707         73.839966         58.319149   \n",
       "75%        6.340909        627.681838        400.342738        552.000000   \n",
       "max       19.372549      12314.328704      10515.666667      25215.000000   \n",
       "\n",
       "       RN_under4_rate  RN_under3_rate  RN_under2_rate  비상소화장치_count  \\\n",
       "count      423.000000      423.000000      423.000000    423.000000   \n",
       "mean         0.345319        0.152626        0.039941     16.409066   \n",
       "std          0.202120        0.123248        0.058377     21.466024   \n",
       "min          0.000000        0.000000        0.000000      0.000000   \n",
       "25%          0.204334        0.054104        0.006010      4.000000   \n",
       "50%          0.345361        0.114983        0.018868     10.000000   \n",
       "75%          0.482625        0.238366        0.044903     17.000000   \n",
       "max          0.880000        0.651240        0.616529    109.000000   \n",
       "\n",
       "        소화용수_count      공영주차장수  주차 면(주차 가능 차량 수)    소방서거리(㎞)      안전센터거리  \\\n",
       "count   423.000000  423.000000        423.000000  423.000000  423.000000   \n",
       "mean    515.925678    7.572162         85.911989    3.398582    1.629787   \n",
       "std     369.148672    6.705597         51.978964    1.716507    0.847501   \n",
       "min      19.600000    0.000000          0.000000    0.200000    0.100000   \n",
       "25%     218.000000    2.583333         60.187748    2.200000    1.000000   \n",
       "50%     394.000000    5.250000         73.647059    3.200000    1.500000   \n",
       "75%     817.200000   11.000000        102.426136    4.200000    2.100000   \n",
       "max    1691.000000   31.000000        401.000000   10.000000    7.000000   \n",
       "\n",
       "             관할인구(명)   관할면적(km2)  \n",
       "count     423.000000  423.000000  \n",
       "mean   104289.683215    5.982695  \n",
       "std     35880.840941    3.657147  \n",
       "min      9957.000000    1.500000  \n",
       "25%     81912.000000    3.530000  \n",
       "50%    100403.000000    5.130000  \n",
       "75%    131158.000000    6.875000  \n",
       "max    184449.000000   20.240000  "
      ]
     },
     "execution_count": 12,
     "metadata": {},
     "output_type": "execute_result"
    }
   ],
   "source": [
    "X1.describe()"
   ]
  },
  {
   "cell_type": "code",
   "execution_count": 13,
   "metadata": {
    "scrolled": false
   },
   "outputs": [
    {
     "name": "stderr",
     "output_type": "stream",
     "text": [
      "c:\\users\\ina lee\\appdata\\local\\programs\\python\\python37\\lib\\site-packages\\scipy\\stats\\stats.py:1713: FutureWarning: Using a non-tuple sequence for multidimensional indexing is deprecated; use `arr[tuple(seq)]` instead of `arr[seq]`. In the future this will be interpreted as an array index, `arr[np.array(seq)]`, which will result either in an error or a different result.\n",
      "  return np.add.reduce(sorted[indexer] * weights, axis=axis) / sumval\n"
     ]
    },
    {
     "data": {
      "image/png": "[encoded data removed]",
      "text/plain": [
       "<Figure size 1080x3600 with 20 Axes>"
      ]
     },
     "metadata": {
      "needs_background": "light"
     },
     "output_type": "display_data"
    }
   ],
   "source": [
    "## ax=axes[0, 0] 는 위치\n",
    "f, axes = plt.subplots(10, 2, figsize=(15, 50), sharex=False)\n",
    "sns.distplot(X1[\"건축면적(㎡)\"], ax=axes[0, 0],kde=False)\n",
    "sns.distplot(X1[\"높이(m)\"], ax=axes[0, 1],kde=False)\n",
    "\n",
    "sns.distplot(X1[\"지상층수\"],ax=axes[1, 0],kde=False)\n",
    "sns.distplot(X1[\"지하층수\"], ax=axes[1,1],kde=False)\n",
    "\n",
    "sns.distplot(X1[\"빌딩연차\"],ax=axes[2, 0],kde=False)\n",
    "sns.distplot(X1[\"ROAD_BT_MEAN\"], ax=axes[2, 1],kde=False)\n",
    "\n",
    "sns.distplot(X1[\"RN_under4_rate\"],ax=axes[3, 0],kde=False)\n",
    "sns.distplot(X1[\"RN_length_under4\"], ax=axes[3,1],kde=False)\n",
    "\n",
    "sns.distplot(X1[\"RN_length_under3\"], ax=axes[4, 0],kde=False)\n",
    "sns.distplot(X1[\"RN_under3_rate\"],ax=axes[4, 1],kde=False)\n",
    "\n",
    "sns.distplot(X1[\"RN_length_under2\"], ax=axes[5,0],kde=False)\n",
    "sns.distplot(X1[\"RN_under2_rate\"], ax=axes[5, 1],kde=False)\n",
    "\n",
    "sns.distplot(X1[\"비상소화장치_count\"],ax=axes[6, 0],kde=False)\n",
    "sns.distplot(X1[\"소화용수_count\"], ax=axes[6,1],kde=False)\n",
    "\n",
    "sns.distplot(X1[\"공영주차장수\"],ax=axes[7, 0],kde=False)\n",
    "sns.distplot(X1[\"주차 면(주차 가능 차량 수)\"], ax=axes[7,1],kde=False)\n",
    "\n",
    "sns.distplot(X1[\"소방서거리(㎞)\"],ax=axes[8, 0],kde=False)\n",
    "sns.distplot(X1[\"안전센터거리\"], ax=axes[8,1],kde=False)\n",
    "\n",
    "sns.distplot(X1[\"관할인구(명)\"],ax=axes[9, 0],kde=False)\n",
    "sns.distplot(X1[\"관할면적(km2)\"], ax=axes[9,1],kde=False)\n",
    "\n",
    "plt.show()"
   ]
  },
  {
   "cell_type": "code",
   "execution_count": 13,
   "metadata": {},
   "outputs": [
    {
     "data": {
      "text/plain": [
       "철근콘크리트조    307\n",
       "벽돌조         98\n",
       "블록조          7\n",
       "목조           6\n",
       "기타 조         3\n",
       "샌드위치패널조      1\n",
       "치장벽돌조        1\n",
       "Name: 건물구조조, dtype: int64"
      ]
     },
     "execution_count": 13,
     "metadata": {},
     "output_type": "execute_result"
    }
   ],
   "source": [
    "X1['건물구조조'].value_counts()"
   ]
  },
  {
   "cell_type": "code",
   "execution_count": 14,
   "metadata": {
    "scrolled": true
   },
   "outputs": [
    {
     "data": {
      "text/plain": [
       "다가구주택                           107\n",
       "다세대주택                           106\n",
       "아파트                              87\n",
       "단독주택                             56\n",
       "연립주택                             25\n",
       "상가주택(주택부분에서 화재가 발생한 경우에만 해당)     11\n",
       "다중주택                              9\n",
       "주상복합아파트                           5\n",
       "기타 공동주택                           5\n",
       "모텔                                3\n",
       "호텔                                2\n",
       "쇼핑센터                              1\n",
       "유치원                               1\n",
       "성당                                1\n",
       "기타 단독주택                           1\n",
       "교회                                1\n",
       "사회복지시설                            1\n",
       "노인복지시설                            1\n",
       "Name: 장소소분류, dtype: int64"
      ]
     },
     "execution_count": 14,
     "metadata": {},
     "output_type": "execute_result"
    }
   ],
   "source": [
    "X1['장소소분류'].value_counts()"
   ]
  },
  {
   "cell_type": "markdown",
   "metadata": {},
   "source": [
    "### 전처리 및 모델링"
   ]
  },
  {
   "cell_type": "code",
   "execution_count": 54,
   "metadata": {
    "scrolled": true
   },
   "outputs": [
    {
     "name": "stderr",
     "output_type": "stream",
     "text": [
      "c:\\users\\ina lee\\appdata\\local\\programs\\python\\python37\\lib\\site-packages\\sklearn\\preprocessing\\label.py:235: DataConversionWarning: A column-vector y was passed when a 1d array was expected. Please change the shape of y to (n_samples, ), for example using ravel().\n",
      "  y = column_or_1d(y, warn=True)\n",
      "c:\\users\\ina lee\\appdata\\local\\programs\\python\\python37\\lib\\site-packages\\sklearn\\preprocessing\\label.py:235: DataConversionWarning: A column-vector y was passed when a 1d array was expected. Please change the shape of y to (n_samples, ), for example using ravel().\n",
      "  y = column_or_1d(y, warn=True)\n"
     ]
    }
   ],
   "source": [
    "# 명목변수 encoding\n",
    "encoder1 = LabelEncoder()\n",
    "encoder2 = LabelEncoder()\n",
    "X1['건물구조조'] = encoder1.fit_transform(X1[['건물구조조']])\n",
    "X1['장소소분류'] = encoder2.fit_transform(X1[['장소소분류']])"
   ]
  },
  {
   "cell_type": "code",
   "execution_count": 71,
   "metadata": {},
   "outputs": [],
   "source": [
    "# train - test set 나누기\n",
    "X_train, X_test, y_train, y_test = train_test_split(X1, y1, test_size=0.3,shuffle=True)"
   ]
  },
  {
   "cell_type": "code",
   "execution_count": 72,
   "metadata": {
    "scrolled": false
   },
   "outputs": [
    {
     "name": "stdout",
     "output_type": "stream",
     "text": [
      "=====================\n",
      "train set: 296\n",
      "test set: 127\n",
      "=====================\n"
     ]
    }
   ],
   "source": [
    "print('=====================')\n",
    "print(\"train set:\",len(X_train))\n",
    "print(\"test set:\",len(X_test))\n",
    "print('=====================')"
   ]
  },
  {
   "cell_type": "code",
   "execution_count": 73,
   "metadata": {
    "scrolled": true
   },
   "outputs": [
    {
     "name": "stderr",
     "output_type": "stream",
     "text": [
      "c:\\users\\ina lee\\appdata\\local\\programs\\python\\python37\\lib\\site-packages\\sklearn\\ensemble\\forest.py:246: FutureWarning: The default value of n_estimators will change from 10 in version 0.20 to 100 in 0.22.\n",
      "  \"10 in version 0.20 to 100 in 0.22.\", FutureWarning)\n"
     ]
    }
   ],
   "source": [
    "rf1 = RandomForestRegressor(min_samples_split=60)\n",
    "rf1.fit(X_train,y_train)\n",
    "pred = rf1.predict(X_test)"
   ]
  },
  {
   "cell_type": "code",
   "execution_count": 74,
   "metadata": {
    "scrolled": true
   },
   "outputs": [
    {
     "data": {
      "text/plain": [
       "261.571298302088"
      ]
     },
     "execution_count": 74,
     "metadata": {},
     "output_type": "execute_result"
    }
   ],
   "source": [
    "# RMSE\n",
    "np.sqrt(mean_squared_error(y_test,pred))"
   ]
  },
  {
   "cell_type": "code",
   "execution_count": 184,
   "metadata": {},
   "outputs": [
    {
     "data": {
      "text/plain": [
       "['final_result/fire_intensity_model.pkl']"
      ]
     },
     "execution_count": 184,
     "metadata": {},
     "output_type": "execute_result"
    }
   ],
   "source": [
    "## 모델 저장\n",
    "joblib.dump(rf1,\"final_result/fire_intensity_model.pkl\")"
   ]
  },
  {
   "cell_type": "code",
   "execution_count": 185,
   "metadata": {
    "scrolled": true
   },
   "outputs": [
    {
     "data": {
      "image/png": "[encoded data removed]",
      "text/plain": [
       "<Figure size 720x1080 with 1 Axes>"
      ]
     },
     "metadata": {
      "needs_background": "light"
     },
     "output_type": "display_data"
    }
   ],
   "source": [
    "importances = rf1.feature_importances_\n",
    "indices = np.argsort(importances)\n",
    "features = X1.columns\n",
    "plt.figure(figsize=(10,15))\n",
    "plt.title('Feature Importance')\n",
    "plt.barh(range(len(indices)), importances[indices], color='skyblue', align='center')\n",
    "plt.yticks(range(len(indices)), [features[i] for i in indices])\n",
    "plt.xlabel('Relative Importance')\n",
    "plt.show()"
   ]
  },
  {
   "cell_type": "code",
   "execution_count": null,
   "metadata": {},
   "outputs": [],
   "source": [
    "## feature importance df로 만들기"
   ]
  },
  {
   "cell_type": "code",
   "execution_count": 159,
   "metadata": {
    "scrolled": true
   },
   "outputs": [],
   "source": [
    "feature_df = pd.DataFrame(features,columns=[\"features\"])\n",
    "importances_df = pd.DataFrame(importances,columns = [\"importances\"])"
   ]
  },
  {
   "cell_type": "markdown",
   "metadata": {},
   "source": [
    "## 화재 빈도"
   ]
  },
  {
   "cell_type": "code",
   "execution_count": 35,
   "metadata": {
    "scrolled": true
   },
   "outputs": [],
   "source": [
    "train2 = pd.read_csv(\"건물별_화재빈도_train.csv\",encoding='utf-8-sig',engine='python')\n",
    "train2 = train2.drop(['시군구명','동리명','관리건축물대장PK','법정동코드2'],1)"
   ]
  },
  {
   "cell_type": "code",
   "execution_count": 36,
   "metadata": {
    "scrolled": true
   },
   "outputs": [
    {
     "data": {
      "text/plain": [
       "빌딩연차              0\n",
       "기타용도              0\n",
       "구조코드명             0\n",
       "대지면적(㎡)           0\n",
       "건축면적(㎡)           0\n",
       "연면적(㎡)            0\n",
       "주용도코드명            0\n",
       "높이(m)             0\n",
       "지상층수              0\n",
       "지하층수              0\n",
       "세대수(세대)           0\n",
       "가구수(가구)           0\n",
       "공동주택              0\n",
       "공장                0\n",
       "단독주택              0\n",
       "문화및집회시설           0\n",
       "숙박시설              0\n",
       "업무시설              0\n",
       "위험물저장및처리시설        0\n",
       "제1종근린생활시설         0\n",
       "제2종근린생활시설         0\n",
       "창고시설              0\n",
       "면적대비 생활인구 밀도      0\n",
       "2018연간가스사용량       0\n",
       "2018연간전기사용량       0\n",
       "0-5 시간대 생활인구      0\n",
       "6-11 시간대 생활인구     0\n",
       "12-17 시간대 생활인구    0\n",
       "18-23 시간대 생활인구    0\n",
       "시간대별 생활인구 총합계     0\n",
       "전체세대수             0\n",
       "인구                0\n",
       "인구밀도              0\n",
       "전체평균연령            0\n",
       "65세이상인구수          0\n",
       "65세이상인구비율         0\n",
       "휴게음식점             0\n",
       "일반음식점             0\n",
       "제과점               0\n",
       "단란주점              0\n",
       "유흥주점              0\n",
       "사업체수              0\n",
       "건물수               0\n",
       "fire_YN           0\n",
       "dtype: int64"
      ]
     },
     "execution_count": 36,
     "metadata": {},
     "output_type": "execute_result"
    }
   ],
   "source": [
    "train2.isnull().sum()"
   ]
  },
  {
   "cell_type": "markdown",
   "metadata": {},
   "source": [
    "### EDA"
   ]
  },
  {
   "cell_type": "code",
   "execution_count": 37,
   "metadata": {},
   "outputs": [
    {
     "data": {
      "text/plain": [
       "1    423\n",
       "0    423\n",
       "Name: fire_YN, dtype: int64"
      ]
     },
     "execution_count": 37,
     "metadata": {},
     "output_type": "execute_result"
    }
   ],
   "source": [
    "train2['fire_YN'].value_counts()"
   ]
  },
  {
   "cell_type": "code",
   "execution_count": 38,
   "metadata": {},
   "outputs": [],
   "source": [
    "X2 = train2.drop([\"fire_YN\",'공동주택', '공장', '단독주택','연면적(㎡)',\n",
    "       '문화및집회시설', '숙박시설', '업무시설', '위험물저장및처리시설', '제1종근린생활시설', '제2종근린생활시설',\n",
    "       '창고시설','휴게음식점','일반음식점', '제과점', '단란주점', '유흥주점','전체평균연령',\n",
    "        '0-5 시간대 생활인구','6-11 시간대 생활인구', '12-17 시간대 생활인구', '18-23 시간대 생활인구','대지면적(㎡)',\n",
    "                  '65세이상인구수', '65세이상인구비율','전체세대수','가구수(가구)','기타용도','지상층수','지하층수'],1)\n",
    "y2 = train2['fire_YN']"
   ]
  },
  {
   "cell_type": "code",
   "execution_count": 39,
   "metadata": {
    "scrolled": true
   },
   "outputs": [
    {
     "data": {
      "text/plain": [
       "Index(['빌딩연차', '구조코드명', '건축면적(㎡)', '주용도코드명', '높이(m)', '세대수(세대)',\n",
       "       '면적대비 생활인구 밀도', '2018연간가스사용량', '2018연간전기사용량', '시간대별 생활인구 총합계', '인구',\n",
       "       '인구밀도', '사업체수', '건물수'],\n",
       "      dtype='object')"
      ]
     },
     "execution_count": 39,
     "metadata": {},
     "output_type": "execute_result"
    }
   ],
   "source": [
    "X2.columns"
   ]
  },
  {
   "cell_type": "code",
   "execution_count": 40,
   "metadata": {},
   "outputs": [
    {
     "data": {
      "text/html": [
       "<div>\n",
       "<style scoped>\n",
       "    .dataframe tbody tr th:only-of-type {\n",
       "        vertical-align: middle;\n",
       "    }\n",
       "\n",
       "    .dataframe tbody tr th {\n",
       "        vertical-align: top;\n",
       "    }\n",
       "\n",
       "    .dataframe thead th {\n",
       "        text-align: right;\n",
       "    }\n",
       "</style>\n",
       "<table border=\"1\" class=\"dataframe\">\n",
       "  <thead>\n",
       "    <tr style=\"text-align: right;\">\n",
       "      <th></th>\n",
       "      <th>빌딩연차</th>\n",
       "      <th>건축면적(㎡)</th>\n",
       "      <th>높이(m)</th>\n",
       "      <th>세대수(세대)</th>\n",
       "      <th>면적대비 생활인구 밀도</th>\n",
       "      <th>2018연간가스사용량</th>\n",
       "      <th>2018연간전기사용량</th>\n",
       "      <th>시간대별 생활인구 총합계</th>\n",
       "      <th>인구</th>\n",
       "      <th>인구밀도</th>\n",
       "      <th>사업체수</th>\n",
       "      <th>건물수</th>\n",
       "    </tr>\n",
       "  </thead>\n",
       "  <tbody>\n",
       "    <tr>\n",
       "      <th>count</th>\n",
       "      <td>846.000000</td>\n",
       "      <td>846.000000</td>\n",
       "      <td>846.000000</td>\n",
       "      <td>846.000000</td>\n",
       "      <td>8.460000e+02</td>\n",
       "      <td>8.460000e+02</td>\n",
       "      <td>8.460000e+02</td>\n",
       "      <td>8.460000e+02</td>\n",
       "      <td>846.000000</td>\n",
       "      <td>846.000000</td>\n",
       "      <td>846.000000</td>\n",
       "      <td>846.000000</td>\n",
       "    </tr>\n",
       "    <tr>\n",
       "      <th>mean</th>\n",
       "      <td>26.179669</td>\n",
       "      <td>240.484247</td>\n",
       "      <td>10.260689</td>\n",
       "      <td>17.641844</td>\n",
       "      <td>8.999833e+06</td>\n",
       "      <td>1.886228e+08</td>\n",
       "      <td>1.945660e+08</td>\n",
       "      <td>2.348424e+08</td>\n",
       "      <td>25571.540137</td>\n",
       "      <td>24238.455298</td>\n",
       "      <td>2092.941287</td>\n",
       "      <td>4689.819491</td>\n",
       "    </tr>\n",
       "    <tr>\n",
       "      <th>std</th>\n",
       "      <td>14.137478</td>\n",
       "      <td>730.504464</td>\n",
       "      <td>15.483528</td>\n",
       "      <td>53.288813</td>\n",
       "      <td>3.220880e+06</td>\n",
       "      <td>1.811836e+08</td>\n",
       "      <td>1.654086e+08</td>\n",
       "      <td>8.785672e+07</td>\n",
       "      <td>7647.951608</td>\n",
       "      <td>9311.668506</td>\n",
       "      <td>1732.180383</td>\n",
       "      <td>4029.546575</td>\n",
       "    </tr>\n",
       "    <tr>\n",
       "      <th>min</th>\n",
       "      <td>1.000000</td>\n",
       "      <td>0.000000</td>\n",
       "      <td>0.000000</td>\n",
       "      <td>0.000000</td>\n",
       "      <td>6.544901e+05</td>\n",
       "      <td>1.092214e+07</td>\n",
       "      <td>7.913295e+06</td>\n",
       "      <td>8.930000e+07</td>\n",
       "      <td>1901.000000</td>\n",
       "      <td>1474.000000</td>\n",
       "      <td>379.000000</td>\n",
       "      <td>47.666667</td>\n",
       "    </tr>\n",
       "    <tr>\n",
       "      <th>25%</th>\n",
       "      <td>16.000000</td>\n",
       "      <td>59.582500</td>\n",
       "      <td>0.000000</td>\n",
       "      <td>0.000000</td>\n",
       "      <td>6.811692e+06</td>\n",
       "      <td>9.037620e+07</td>\n",
       "      <td>8.429663e+07</td>\n",
       "      <td>1.840833e+08</td>\n",
       "      <td>21414.050000</td>\n",
       "      <td>18521.200000</td>\n",
       "      <td>1284.142857</td>\n",
       "      <td>1814.250000</td>\n",
       "    </tr>\n",
       "    <tr>\n",
       "      <th>50%</th>\n",
       "      <td>25.000000</td>\n",
       "      <td>95.110000</td>\n",
       "      <td>7.800000</td>\n",
       "      <td>0.000000</td>\n",
       "      <td>9.266151e+06</td>\n",
       "      <td>1.399019e+08</td>\n",
       "      <td>1.411546e+08</td>\n",
       "      <td>2.122000e+08</td>\n",
       "      <td>25543.800000</td>\n",
       "      <td>24786.666667</td>\n",
       "      <td>1589.500000</td>\n",
       "      <td>3346.000000</td>\n",
       "    </tr>\n",
       "    <tr>\n",
       "      <th>75%</th>\n",
       "      <td>33.000000</td>\n",
       "      <td>171.385000</td>\n",
       "      <td>13.000000</td>\n",
       "      <td>8.000000</td>\n",
       "      <td>1.114035e+07</td>\n",
       "      <td>2.051561e+08</td>\n",
       "      <td>2.650484e+08</td>\n",
       "      <td>2.583750e+08</td>\n",
       "      <td>29284.800000</td>\n",
       "      <td>31984.333333</td>\n",
       "      <td>2117.750000</td>\n",
       "      <td>6449.000000</td>\n",
       "    </tr>\n",
       "    <tr>\n",
       "      <th>max</th>\n",
       "      <td>88.000000</td>\n",
       "      <td>11633.100000</td>\n",
       "      <td>150.600000</td>\n",
       "      <td>645.000000</td>\n",
       "      <td>3.034420e+07</td>\n",
       "      <td>1.233228e+09</td>\n",
       "      <td>9.472883e+08</td>\n",
       "      <td>7.120000e+08</td>\n",
       "      <td>56487.000000</td>\n",
       "      <td>42773.000000</td>\n",
       "      <td>15851.000000</td>\n",
       "      <td>18231.000000</td>\n",
       "    </tr>\n",
       "  </tbody>\n",
       "</table>\n",
       "</div>"
      ],
      "text/plain": [
       "             빌딩연차       건축면적(㎡)       높이(m)     세대수(세대)  면적대비 생활인구 밀도  \\\n",
       "count  846.000000    846.000000  846.000000  846.000000  8.460000e+02   \n",
       "mean    26.179669    240.484247   10.260689   17.641844  8.999833e+06   \n",
       "std     14.137478    730.504464   15.483528   53.288813  3.220880e+06   \n",
       "min      1.000000      0.000000    0.000000    0.000000  6.544901e+05   \n",
       "25%     16.000000     59.582500    0.000000    0.000000  6.811692e+06   \n",
       "50%     25.000000     95.110000    7.800000    0.000000  9.266151e+06   \n",
       "75%     33.000000    171.385000   13.000000    8.000000  1.114035e+07   \n",
       "max     88.000000  11633.100000  150.600000  645.000000  3.034420e+07   \n",
       "\n",
       "        2018연간가스사용량   2018연간전기사용량  시간대별 생활인구 총합계            인구          인구밀도  \\\n",
       "count  8.460000e+02  8.460000e+02   8.460000e+02    846.000000    846.000000   \n",
       "mean   1.886228e+08  1.945660e+08   2.348424e+08  25571.540137  24238.455298   \n",
       "std    1.811836e+08  1.654086e+08   8.785672e+07   7647.951608   9311.668506   \n",
       "min    1.092214e+07  7.913295e+06   8.930000e+07   1901.000000   1474.000000   \n",
       "25%    9.037620e+07  8.429663e+07   1.840833e+08  21414.050000  18521.200000   \n",
       "50%    1.399019e+08  1.411546e+08   2.122000e+08  25543.800000  24786.666667   \n",
       "75%    2.051561e+08  2.650484e+08   2.583750e+08  29284.800000  31984.333333   \n",
       "max    1.233228e+09  9.472883e+08   7.120000e+08  56487.000000  42773.000000   \n",
       "\n",
       "               사업체수           건물수  \n",
       "count    846.000000    846.000000  \n",
       "mean    2092.941287   4689.819491  \n",
       "std     1732.180383   4029.546575  \n",
       "min      379.000000     47.666667  \n",
       "25%     1284.142857   1814.250000  \n",
       "50%     1589.500000   3346.000000  \n",
       "75%     2117.750000   6449.000000  \n",
       "max    15851.000000  18231.000000  "
      ]
     },
     "execution_count": 40,
     "metadata": {},
     "output_type": "execute_result"
    }
   ],
   "source": [
    "X2.describe()"
   ]
  },
  {
   "cell_type": "code",
   "execution_count": 41,
   "metadata": {
    "scrolled": true
   },
   "outputs": [
    {
     "name": "stderr",
     "output_type": "stream",
     "text": [
      "c:\\users\\ina lee\\appdata\\local\\programs\\python\\python37\\lib\\site-packages\\scipy\\stats\\stats.py:1713: FutureWarning: Using a non-tuple sequence for multidimensional indexing is deprecated; use `arr[tuple(seq)]` instead of `arr[seq]`. In the future this will be interpreted as an array index, `arr[np.array(seq)]`, which will result either in an error or a different result.\n",
      "  return np.add.reduce(sorted[indexer] * weights, axis=axis) / sumval\n"
     ]
    },
    {
     "data": {
      "text/plain": [
       "<matplotlib.axes._subplots.AxesSubplot at 0x1a8459db7b8>"
      ]
     },
     "execution_count": 41,
     "metadata": {},
     "output_type": "execute_result"
    },
    {
     "data": {
      "image/png": "[encoded data removed]",
      "text/plain": [
       "<Figure size 1080x1800 with 10 Axes>"
      ]
     },
     "metadata": {
      "needs_background": "light"
     },
     "output_type": "display_data"
    }
   ],
   "source": [
    "f, axes = plt.subplots(5, 2, figsize=(15, 25), sharex=False)\n",
    "sns.distplot(X2[\"시간대별 생활인구 총합계\"], ax=axes[0, 0],kde=False)\n",
    "sns.distplot(X2[\"면적대비 생활인구 밀도\"], ax=axes[0, 1],kde=False)\n",
    "\n",
    "sns.distplot(X2[\"2018연간가스사용량\"],ax=axes[1, 0],kde=False)\n",
    "sns.distplot(X2[\"2018연간전기사용량\"], ax=axes[1,1],kde=False)\n",
    "\n",
    "sns.distplot(X2[\"세대수(세대)\"],ax=axes[2, 0],kde=False)\n",
    "sns.distplot(X2[\"인구\"], ax=axes[2, 1],kde=False)\n",
    "\n",
    "sns.distplot(X2[\"인구밀도\"],ax=axes[3, 0],kde=False)\n",
    "sns.distplot(X2[\"사업체수\"], ax=axes[3,1],kde=False)\n",
    "\n",
    "sns.distplot(X2[\"건물수\"], ax=axes[4, 0],kde=False)"
   ]
  },
  {
   "cell_type": "code",
   "execution_count": 197,
   "metadata": {},
   "outputs": [
    {
     "data": {
      "text/plain": [
       "철근콘크리트구조      480\n",
       "벽돌구조          307\n",
       "일반목구조          25\n",
       "블록구조           18\n",
       "경량철골구조          7\n",
       "철골철근콘크리트구조      4\n",
       "기타조적구조          3\n",
       "일반철골구조          2\n",
       "Name: 구조코드명, dtype: int64"
      ]
     },
     "execution_count": 197,
     "metadata": {},
     "output_type": "execute_result"
    }
   ],
   "source": [
    "X2['구조코드명'].value_counts()"
   ]
  },
  {
   "cell_type": "code",
   "execution_count": 198,
   "metadata": {
    "scrolled": false
   },
   "outputs": [
    {
     "data": {
      "text/plain": [
       "단독주택         406\n",
       "공동주택         311\n",
       "제2종근린생활시설     46\n",
       "제1종근린생활시설     36\n",
       "교육연구시설        13\n",
       "업무시설           9\n",
       "숙박시설           7\n",
       "종교시설           5\n",
       "노유자시설          5\n",
       "의료시설           2\n",
       "방송통신시설         1\n",
       "공장             1\n",
       "근린생활시설         1\n",
       "판매시설           1\n",
       "자동차관련시설        1\n",
       "위락시설           1\n",
       "Name: 주용도코드명, dtype: int64"
      ]
     },
     "execution_count": 198,
     "metadata": {},
     "output_type": "execute_result"
    }
   ],
   "source": [
    "X2['주용도코드명'].value_counts()"
   ]
  },
  {
   "cell_type": "markdown",
   "metadata": {},
   "source": [
    "### 전처리 및 모델링"
   ]
  },
  {
   "cell_type": "code",
   "execution_count": 42,
   "metadata": {
    "scrolled": true
   },
   "outputs": [
    {
     "name": "stderr",
     "output_type": "stream",
     "text": [
      "c:\\users\\ina lee\\appdata\\local\\programs\\python\\python37\\lib\\site-packages\\sklearn\\preprocessing\\label.py:235: DataConversionWarning: A column-vector y was passed when a 1d array was expected. Please change the shape of y to (n_samples, ), for example using ravel().\n",
      "  y = column_or_1d(y, warn=True)\n",
      "c:\\users\\ina lee\\appdata\\local\\programs\\python\\python37\\lib\\site-packages\\sklearn\\preprocessing\\label.py:235: DataConversionWarning: A column-vector y was passed when a 1d array was expected. Please change the shape of y to (n_samples, ), for example using ravel().\n",
      "  y = column_or_1d(y, warn=True)\n"
     ]
    }
   ],
   "source": [
    "# 명목변수 encoding\n",
    "encoder3 = LabelEncoder()\n",
    "encoder4 = LabelEncoder()\n",
    "X2['구조코드명'] = encoder3.fit_transform(X2[['구조코드명']])\n",
    "X2['주용도코드명'] = encoder4.fit_transform(X2[['주용도코드명']])"
   ]
  },
  {
   "cell_type": "code",
   "execution_count": 55,
   "metadata": {},
   "outputs": [],
   "source": [
    "# train - test set\n",
    "X_train, X_test, y_train, y_test = train_test_split(X2, y2, test_size=0.2, shuffle=True)"
   ]
  },
  {
   "cell_type": "code",
   "execution_count": 56,
   "metadata": {},
   "outputs": [
    {
     "name": "stdout",
     "output_type": "stream",
     "text": [
      "=====================\n",
      "train set: 676\n",
      "test set: 170\n",
      "=====================\n"
     ]
    }
   ],
   "source": [
    "print('=====================')\n",
    "print(\"train set:\",len(X_train))\n",
    "print(\"test set:\",len(X_test))\n",
    "print('=====================')"
   ]
  },
  {
   "cell_type": "code",
   "execution_count": 57,
   "metadata": {
    "scrolled": true
   },
   "outputs": [
    {
     "data": {
      "text/plain": [
       "0    342\n",
       "1    334\n",
       "Name: fire_YN, dtype: int64"
      ]
     },
     "execution_count": 57,
     "metadata": {},
     "output_type": "execute_result"
    }
   ],
   "source": [
    "y_train.value_counts()"
   ]
  },
  {
   "cell_type": "code",
   "execution_count": 58,
   "metadata": {},
   "outputs": [
    {
     "data": {
      "text/plain": [
       "1    89\n",
       "0    81\n",
       "Name: fire_YN, dtype: int64"
      ]
     },
     "execution_count": 58,
     "metadata": {},
     "output_type": "execute_result"
    }
   ],
   "source": [
    "y_test.value_counts()"
   ]
  },
  {
   "cell_type": "code",
   "execution_count": 215,
   "metadata": {
    "scrolled": false
   },
   "outputs": [
    {
     "name": "stderr",
     "output_type": "stream",
     "text": [
      "c:\\users\\ina lee\\appdata\\local\\programs\\python\\python37\\lib\\site-packages\\sklearn\\ensemble\\forest.py:246: FutureWarning: The default value of n_estimators will change from 10 in version 0.20 to 100 in 0.22.\n",
      "  \"10 in version 0.20 to 100 in 0.22.\", FutureWarning)\n"
     ]
    }
   ],
   "source": [
    "rf2 = RandomForestClassifier(min_samples_split=70)\n",
    "rf2.fit(X_train,y_train)\n",
    "pred = rf2.predict(X_test)"
   ]
  },
  {
   "cell_type": "code",
   "execution_count": 216,
   "metadata": {
    "scrolled": false
   },
   "outputs": [
    {
     "data": {
      "text/plain": [
       "0.7411764705882353"
      ]
     },
     "execution_count": 216,
     "metadata": {},
     "output_type": "execute_result"
    }
   ],
   "source": [
    "rf2.score(X_test,y_test)"
   ]
  },
  {
   "cell_type": "code",
   "execution_count": 218,
   "metadata": {},
   "outputs": [
    {
     "data": {
      "text/plain": [
       "['final_result/fire_YN_model.pkl']"
      ]
     },
     "execution_count": 218,
     "metadata": {},
     "output_type": "execute_result"
    }
   ],
   "source": [
    "joblib.dump(rf2,\"final_result/fire_YN_model.pkl\")"
   ]
  },
  {
   "cell_type": "code",
   "execution_count": 16,
   "metadata": {},
   "outputs": [],
   "source": [
    "rf2 = joblib.load(\"final_result/fire_YN_model.pkl\")"
   ]
  },
  {
   "cell_type": "code",
   "execution_count": 217,
   "metadata": {
    "scrolled": true
   },
   "outputs": [
    {
     "data": {
      "image/png": "[encoded data removed]",
      "text/plain": [
       "<Figure size 720x504 with 1 Axes>"
      ]
     },
     "metadata": {
      "needs_background": "light"
     },
     "output_type": "display_data"
    }
   ],
   "source": [
    "importances = rf2.feature_importances_\n",
    "indices = np.argsort(importances)\n",
    "features = X2.columns\n",
    "plt.figure(figsize=(10,7))\n",
    "plt.title('Feature Importance')\n",
    "plt.barh(range(len(indices)), importances[indices], color='b', align='center')\n",
    "plt.yticks(range(len(indices)), [features[i] for i in indices])\n",
    "plt.xlabel('Relative Importance')\n",
    "plt.show()"
   ]
  },
  {
   "cell_type": "code",
   "execution_count": 219,
   "metadata": {},
   "outputs": [
    {
     "data": {
      "text/html": [
       "<div>\n",
       "<style scoped>\n",
       "    .dataframe tbody tr th:only-of-type {\n",
       "        vertical-align: middle;\n",
       "    }\n",
       "\n",
       "    .dataframe tbody tr th {\n",
       "        vertical-align: top;\n",
       "    }\n",
       "\n",
       "    .dataframe thead th {\n",
       "        text-align: right;\n",
       "    }\n",
       "</style>\n",
       "<table border=\"1\" class=\"dataframe\">\n",
       "  <thead>\n",
       "    <tr style=\"text-align: right;\">\n",
       "      <th>features</th>\n",
       "      <th>2018연간가스사용량</th>\n",
       "      <th>2018연간전기사용량</th>\n",
       "      <th>건물수</th>\n",
       "      <th>건축면적(㎡)</th>\n",
       "      <th>구조코드명</th>\n",
       "      <th>높이(m)</th>\n",
       "      <th>면적대비 생활인구 밀도</th>\n",
       "      <th>빌딩연차</th>\n",
       "      <th>사업체수</th>\n",
       "      <th>세대수(세대)</th>\n",
       "      <th>시간대별 생활인구 총합계</th>\n",
       "      <th>인구</th>\n",
       "      <th>인구밀도</th>\n",
       "      <th>주용도코드명</th>\n",
       "    </tr>\n",
       "  </thead>\n",
       "  <tbody>\n",
       "    <tr>\n",
       "      <th>importances</th>\n",
       "      <td>0.023637</td>\n",
       "      <td>0.039498</td>\n",
       "      <td>0.050341</td>\n",
       "      <td>0.219949</td>\n",
       "      <td>0.007437</td>\n",
       "      <td>0.031103</td>\n",
       "      <td>0.022467</td>\n",
       "      <td>0.062295</td>\n",
       "      <td>0.029465</td>\n",
       "      <td>0.229249</td>\n",
       "      <td>0.052508</td>\n",
       "      <td>0.030857</td>\n",
       "      <td>0.02468</td>\n",
       "      <td>0.176511</td>\n",
       "    </tr>\n",
       "  </tbody>\n",
       "</table>\n",
       "</div>"
      ],
      "text/plain": [
       "features     2018연간가스사용량  2018연간전기사용량       건물수   건축면적(㎡)     구조코드명     높이(m)  \\\n",
       "importances     0.023637     0.039498  0.050341  0.219949  0.007437  0.031103   \n",
       "\n",
       "features     면적대비 생활인구 밀도      빌딩연차      사업체수   세대수(세대)  시간대별 생활인구 총합계  \\\n",
       "importances      0.022467  0.062295  0.029465  0.229249       0.052508   \n",
       "\n",
       "features           인구     인구밀도    주용도코드명  \n",
       "importances  0.030857  0.02468  0.176511  "
      ]
     },
     "execution_count": 219,
     "metadata": {},
     "output_type": "execute_result"
    }
   ],
   "source": [
    "feature_df = pd.DataFrame(features,columns=[\"features\"])\n",
    "importances_df = pd.DataFrame(importances,columns = [\"importances\"])\n",
    "\n",
    "importance_df2 = pd.concat([feature_df,importances_df],1)\n",
    "importance_df2.pivot_table(columns=\"features\")"
   ]
  },
  {
   "cell_type": "markdown",
   "metadata": {},
   "source": [
    "### test set 예측"
   ]
  },
  {
   "cell_type": "markdown",
   "metadata": {},
   "source": [
    "#### 1) 화재강도"
   ]
  },
  {
   "cell_type": "code",
   "execution_count": 220,
   "metadata": {},
   "outputs": [],
   "source": [
    "test1 = pd.read_csv(\"건물별_화재강도_test.csv\",encoding='utf-8-sig',engine='python').sort_values(\"관리건축물대장PK\").reset_index(drop=True)\n",
    "X3 = test1.drop(['시군구명','동리명','관리건축물대장PK','시군구명.1','법정동코드2',\n",
    "                    '공동주택', '공장', '단독주택','연면적(㎡)','대지면적(㎡)','부동산', '동산', '재산피해소계',\n",
    "       '문화및집회시설', '숙박시설', '업무시설', '위험물저장및처리시설', '제1종근린생활시설', '제2종근린생활시설',\n",
    "       '창고시설', '면적', '휴게음식점', '일반음식점', '제과점', '단란주점', '유흥주점','구조코드명','RN_COUNT','주용도코드명',\n",
    "       '숙박 및 음식점업 사업체수','승용승강기수','비상용승강기수','가판대_count','장소중분류','사업체수','건물수','기타용도',\n",
    "                 'RN_COUNT_under4','RN_COUNT_under3','RN_COUNT_under2','건물구조즙'],1)\n",
    "X3.fillna(0,inplace=True)"
   ]
  },
  {
   "cell_type": "code",
   "execution_count": 221,
   "metadata": {
    "scrolled": false
   },
   "outputs": [
    {
     "name": "stderr",
     "output_type": "stream",
     "text": [
      "c:\\users\\ina lee\\appdata\\local\\programs\\python\\python37\\lib\\site-packages\\sklearn\\preprocessing\\label.py:235: DataConversionWarning: A column-vector y was passed when a 1d array was expected. Please change the shape of y to (n_samples, ), for example using ravel().\n",
      "  y = column_or_1d(y, warn=True)\n",
      "c:\\users\\ina lee\\appdata\\local\\programs\\python\\python37\\lib\\site-packages\\sklearn\\preprocessing\\label.py:235: DataConversionWarning: A column-vector y was passed when a 1d array was expected. Please change the shape of y to (n_samples, ), for example using ravel().\n",
      "  y = column_or_1d(y, warn=True)\n"
     ]
    }
   ],
   "source": [
    "X3['건물구조조'] = encoder1.fit_transform(X3[['건물구조조']])\n",
    "X3['장소소분류'] = encoder2.fit_transform(X3[['장소소분류']])"
   ]
  },
  {
   "cell_type": "code",
   "execution_count": 222,
   "metadata": {
    "scrolled": true
   },
   "outputs": [],
   "source": [
    "final_pred = rf1.predict(X3)"
   ]
  },
  {
   "cell_type": "code",
   "execution_count": 223,
   "metadata": {
    "scrolled": true
   },
   "outputs": [],
   "source": [
    "final_pred = final_pred*0.9"
   ]
  },
  {
   "cell_type": "code",
   "execution_count": 224,
   "metadata": {},
   "outputs": [],
   "source": [
    "final_intense_list = []\n",
    "for value in final_pred:\n",
    "    z_value = (value-final_pred.min())/(final_pred.max()-final_pred.min())\n",
    "    final_intense_list.append(z_value*100)"
   ]
  },
  {
   "cell_type": "markdown",
   "metadata": {},
   "source": [
    "#### 2) 화재 빈도"
   ]
  },
  {
   "cell_type": "code",
   "execution_count": 13,
   "metadata": {},
   "outputs": [],
   "source": [
    "test2 = pd.read_csv(\"건물별_화재빈도_test.csv\",encoding='utf-8-sig',engine='python').sort_values(\"관리건축물대장PK\").reset_index(drop=True)\n",
    "X4 = test2.drop(['시군구명','동리명','관리건축물대장PK','법정동코드2',\n",
    "                    '공동주택', '단독주택', '문화및집회시설', \n",
    "        '65세이상인구수','65세이상인구비율', '전체세대수', '0-5 시간대 생활인구', '6-11 시간대 생활인구', '12-17 시간대 생활인구',\n",
    "       '18-23 시간대 생활인구', '창고시설','숙박시설','제과점','단란주점','유흥주점','휴게음식점','전체평균연령','기타용도',\n",
    "               '제1종근린생활시설', '제2종근린생활시설','업무시설','일반음식점','공장','위험물저장및처리시설','대지면적(㎡)',\n",
    "                   '연면적(㎡)','지상층수','지하층수','가구수(가구)'],1)"
   ]
  },
  {
   "cell_type": "code",
   "execution_count": null,
   "metadata": {
    "scrolled": true
   },
   "outputs": [],
   "source": [
    "encoder = LabelEncoder()\n",
    "X4['구조코드명'] = encoder3.fit_transform(X4[['구조코드명']])\n",
    "X4['주용도코드명'] = encoder4.fit_transform(X4[['주용도코드명']])"
   ]
  },
  {
   "cell_type": "code",
   "execution_count": 227,
   "metadata": {
    "scrolled": false
   },
   "outputs": [],
   "source": [
    "pred_proba = rf2.predict_proba(X4)"
   ]
  },
  {
   "cell_type": "code",
   "execution_count": 228,
   "metadata": {},
   "outputs": [],
   "source": [
    "final_count_list = []\n",
    "for i in pred_proba:\n",
    "    value = i[1]\n",
    "    final_count_list.append(value*100)"
   ]
  },
  {
   "cell_type": "markdown",
   "metadata": {},
   "source": [
    "#### 화재빈도 + 화재강도 위험도 점수계산"
   ]
  },
  {
   "cell_type": "code",
   "execution_count": 229,
   "metadata": {},
   "outputs": [],
   "source": [
    "final_grade = []\n",
    "for i in range(len(final_count_list)):\n",
    "    count = final_count_list[i]\n",
    "    intense = final_intense_list[i]\n",
    "    value = np.sqrt(count*intense)\n",
    "    final_grade.append(value)"
   ]
  },
  {
   "cell_type": "code",
   "execution_count": 230,
   "metadata": {},
   "outputs": [],
   "source": [
    "final = pd.concat([test1,test2[['면적대비 생활인구 밀도',\n",
    "       '2018연간가스사용량', '2018연간전기사용량', '0-5 시간대 생활인구', '6-11 시간대 생활인구',\n",
    "       '12-17 시간대 생활인구', '18-23 시간대 생활인구', '시간대별 생활인구 총합계', '전체세대수', '인구',\n",
    "       '인구밀도', '전체평균연령', '65세이상인구수', '65세이상인구비율']]],1)\n",
    "\n",
    "pred_value = pd.concat([pd.DataFrame(final_pred,columns=['피해규모예측']),pd.DataFrame(final_count_list,columns=['화재발생예측'])],1)\n",
    "final = pd.concat([final,pred_value],1)\n",
    "final = pd.concat([final,pd.DataFrame(final_grade)],1)\n",
    "final = final.rename(columns={0:\"grade\"})"
   ]
  },
  {
   "cell_type": "code",
   "execution_count": 231,
   "metadata": {
    "scrolled": false
   },
   "outputs": [
    {
     "data": {
      "text/plain": [
       "count    300.000000\n",
       "mean      41.651521\n",
       "std       15.287817\n",
       "min        0.000000\n",
       "25%       29.795490\n",
       "50%       39.903574\n",
       "75%       52.910334\n",
       "max       89.312304\n",
       "Name: grade, dtype: float64"
      ]
     },
     "execution_count": 231,
     "metadata": {},
     "output_type": "execute_result"
    }
   ],
   "source": [
    "final['grade'].describe()"
   ]
  },
  {
   "cell_type": "code",
   "execution_count": 232,
   "metadata": {
    "scrolled": false
   },
   "outputs": [
    {
     "data": {
      "text/plain": [
       "<matplotlib.axes._subplots.AxesSubplot at 0x16ef604df98>"
      ]
     },
     "execution_count": 232,
     "metadata": {},
     "output_type": "execute_result"
    },
    {
     "data": {
      "image/png": "[encoded data removed]",
      "text/plain": [
       "<Figure size 432x288 with 1 Axes>"
      ]
     },
     "metadata": {
      "needs_background": "light"
     },
     "output_type": "display_data"
    }
   ],
   "source": [
    "final['grade'].hist()"
   ]
  },
  {
   "cell_type": "code",
   "execution_count": 262,
   "metadata": {
    "scrolled": true
   },
   "outputs": [],
   "source": [
    "final['grade2'] = final['grade'].map(lambda x: 1 if x>=70 else\n",
    "                   2 if x>=55 else\n",
    "                   3 if x>=40 else\n",
    "                   4 if x>=25 else 5)"
   ]
  },
  {
   "cell_type": "code",
   "execution_count": 263,
   "metadata": {
    "scrolled": false
   },
   "outputs": [
    {
     "data": {
      "text/plain": [
       "4    114\n",
       "3     92\n",
       "2     46\n",
       "5     36\n",
       "1     12\n",
       "Name: grade2, dtype: int64"
      ]
     },
     "execution_count": 263,
     "metadata": {},
     "output_type": "execute_result"
    }
   ],
   "source": [
    "final['grade2'].value_counts()"
   ]
  },
  {
   "cell_type": "code",
   "execution_count": null,
   "metadata": {},
   "outputs": [],
   "source": [
    "final.groupby([\"grade2\"]).mean()[['피해규모예측','화재발생예측']]"
   ]
  },
  {
   "cell_type": "code",
   "execution_count": 260,
   "metadata": {
    "scrolled": true
   },
   "outputs": [
    {
     "data": {
      "text/html": [
       "<div>\n",
       "<style scoped>\n",
       "    .dataframe tbody tr th:only-of-type {\n",
       "        vertical-align: middle;\n",
       "    }\n",
       "\n",
       "    .dataframe tbody tr th {\n",
       "        vertical-align: top;\n",
       "    }\n",
       "\n",
       "    .dataframe thead th {\n",
       "        text-align: right;\n",
       "    }\n",
       "</style>\n",
       "<table border=\"1\" class=\"dataframe\">\n",
       "  <thead>\n",
       "    <tr style=\"text-align: right;\">\n",
       "      <th></th>\n",
       "      <th>법정동코드2</th>\n",
       "      <th>대지면적(㎡)</th>\n",
       "      <th>건축면적(㎡)</th>\n",
       "      <th>연면적(㎡)</th>\n",
       "      <th>높이(m)</th>\n",
       "      <th>지상층수</th>\n",
       "      <th>지하층수</th>\n",
       "      <th>승용승강기수</th>\n",
       "      <th>비상용승강기수</th>\n",
       "      <th>빌딩연차</th>\n",
       "      <th>공동주택</th>\n",
       "      <th>공장</th>\n",
       "      <th>단독주택</th>\n",
       "      <th>문화및집회시설</th>\n",
       "      <th>숙박시설</th>\n",
       "      <th>업무시설</th>\n",
       "      <th>위험물저장및처리시설</th>\n",
       "      <th>제1종근린생활시설</th>\n",
       "      <th>제2종근린생활시설</th>\n",
       "      <th>창고시설</th>\n",
       "      <th>면적</th>\n",
       "      <th>휴게음식점</th>\n",
       "      <th>일반음식점</th>\n",
       "      <th>제과점</th>\n",
       "      <th>단란주점</th>\n",
       "      <th>유흥주점</th>\n",
       "      <th>사업체수</th>\n",
       "      <th>숙박 및 음식점업 사업체수</th>\n",
       "      <th>RN_COUNT</th>\n",
       "      <th>RN_COUNT_under4</th>\n",
       "      <th>ROAD_BT_MEAN</th>\n",
       "      <th>RN_length_under4</th>\n",
       "      <th>RN_length_under3</th>\n",
       "      <th>RN_COUNT_under3</th>\n",
       "      <th>RN_length_under2</th>\n",
       "      <th>RN_COUNT_under2</th>\n",
       "      <th>RN_under4_rate</th>\n",
       "      <th>RN_under3_rate</th>\n",
       "      <th>RN_under2_rate</th>\n",
       "      <th>비상소화장치_count</th>\n",
       "      <th>소화용수_count</th>\n",
       "      <th>가판대_count</th>\n",
       "      <th>공영주차장수</th>\n",
       "      <th>주차 면(주차 가능 차량 수)</th>\n",
       "      <th>건물수</th>\n",
       "      <th>소방서거리(㎞)</th>\n",
       "      <th>안전센터거리</th>\n",
       "      <th>부동산</th>\n",
       "      <th>동산</th>\n",
       "      <th>재산피해소계</th>\n",
       "      <th>관할인구(명)</th>\n",
       "      <th>관할면적(km2)</th>\n",
       "      <th>면적대비 생활인구 밀도</th>\n",
       "      <th>2018연간가스사용량</th>\n",
       "      <th>2018연간전기사용량</th>\n",
       "      <th>0-5 시간대 생활인구</th>\n",
       "      <th>6-11 시간대 생활인구</th>\n",
       "      <th>12-17 시간대 생활인구</th>\n",
       "      <th>18-23 시간대 생활인구</th>\n",
       "      <th>시간대별 생활인구 총합계</th>\n",
       "      <th>전체세대수</th>\n",
       "      <th>인구</th>\n",
       "      <th>인구밀도</th>\n",
       "      <th>전체평균연령</th>\n",
       "      <th>65세이상인구수</th>\n",
       "      <th>65세이상인구비율</th>\n",
       "      <th>피해규모예측</th>\n",
       "      <th>화재발생예측</th>\n",
       "      <th>grade</th>\n",
       "    </tr>\n",
       "    <tr>\n",
       "      <th>grade2</th>\n",
       "      <th></th>\n",
       "      <th></th>\n",
       "      <th></th>\n",
       "      <th></th>\n",
       "      <th></th>\n",
       "      <th></th>\n",
       "      <th></th>\n",
       "      <th></th>\n",
       "      <th></th>\n",
       "      <th></th>\n",
       "      <th></th>\n",
       "      <th></th>\n",
       "      <th></th>\n",
       "      <th></th>\n",
       "      <th></th>\n",
       "      <th></th>\n",
       "      <th></th>\n",
       "      <th></th>\n",
       "      <th></th>\n",
       "      <th></th>\n",
       "      <th></th>\n",
       "      <th></th>\n",
       "      <th></th>\n",
       "      <th></th>\n",
       "      <th></th>\n",
       "      <th></th>\n",
       "      <th></th>\n",
       "      <th></th>\n",
       "      <th></th>\n",
       "      <th></th>\n",
       "      <th></th>\n",
       "      <th></th>\n",
       "      <th></th>\n",
       "      <th></th>\n",
       "      <th></th>\n",
       "      <th></th>\n",
       "      <th></th>\n",
       "      <th></th>\n",
       "      <th></th>\n",
       "      <th></th>\n",
       "      <th></th>\n",
       "      <th></th>\n",
       "      <th></th>\n",
       "      <th></th>\n",
       "      <th></th>\n",
       "      <th></th>\n",
       "      <th></th>\n",
       "      <th></th>\n",
       "      <th></th>\n",
       "      <th></th>\n",
       "      <th></th>\n",
       "      <th></th>\n",
       "      <th></th>\n",
       "      <th></th>\n",
       "      <th></th>\n",
       "      <th></th>\n",
       "      <th></th>\n",
       "      <th></th>\n",
       "      <th></th>\n",
       "      <th></th>\n",
       "      <th></th>\n",
       "      <th></th>\n",
       "      <th></th>\n",
       "      <th></th>\n",
       "      <th></th>\n",
       "      <th></th>\n",
       "      <th></th>\n",
       "      <th></th>\n",
       "      <th></th>\n",
       "    </tr>\n",
       "  </thead>\n",
       "  <tbody>\n",
       "    <tr>\n",
       "      <th>1</th>\n",
       "      <td>1.151886e+09</td>\n",
       "      <td>2728.666667</td>\n",
       "      <td>873.075833</td>\n",
       "      <td>5577.250833</td>\n",
       "      <td>29.187500</td>\n",
       "      <td>11.083333</td>\n",
       "      <td>0.833333</td>\n",
       "      <td>0.833333</td>\n",
       "      <td>0.250000</td>\n",
       "      <td>20.250000</td>\n",
       "      <td>899.669444</td>\n",
       "      <td>8.430556</td>\n",
       "      <td>1901.508333</td>\n",
       "      <td>2.130556</td>\n",
       "      <td>8.980556</td>\n",
       "      <td>38.155556</td>\n",
       "      <td>4.722222</td>\n",
       "      <td>305.277778</td>\n",
       "      <td>264.136111</td>\n",
       "      <td>9.294444</td>\n",
       "      <td>2.247944</td>\n",
       "      <td>60.097222</td>\n",
       "      <td>223.766667</td>\n",
       "      <td>8.180556</td>\n",
       "      <td>4.111111</td>\n",
       "      <td>3.619444</td>\n",
       "      <td>1647.350000</td>\n",
       "      <td>261.316667</td>\n",
       "      <td>408.738889</td>\n",
       "      <td>101.455556</td>\n",
       "      <td>7.438698</td>\n",
       "      <td>1002.880112</td>\n",
       "      <td>1157.773336</td>\n",
       "      <td>50.250000</td>\n",
       "      <td>840.525369</td>\n",
       "      <td>12.975000</td>\n",
       "      <td>0.196700</td>\n",
       "      <td>0.109990</td>\n",
       "      <td>0.030348</td>\n",
       "      <td>6.822222</td>\n",
       "      <td>350.433333</td>\n",
       "      <td>2.888889</td>\n",
       "      <td>5.713889</td>\n",
       "      <td>77.731614</td>\n",
       "      <td>3496.280556</td>\n",
       "      <td>5.958333</td>\n",
       "      <td>2.416667</td>\n",
       "      <td>47.500000</td>\n",
       "      <td>158.333333</td>\n",
       "      <td>205.833333</td>\n",
       "      <td>104842.333333</td>\n",
       "      <td>7.201667</td>\n",
       "      <td>6.516143e+06</td>\n",
       "      <td>2.067040e+08</td>\n",
       "      <td>1.774039e+08</td>\n",
       "      <td>5.895472e+07</td>\n",
       "      <td>5.838611e+07</td>\n",
       "      <td>5.716528e+07</td>\n",
       "      <td>5.760917e+07</td>\n",
       "      <td>2.321722e+08</td>\n",
       "      <td>11022.175000</td>\n",
       "      <td>27152.338889</td>\n",
       "      <td>18700.536111</td>\n",
       "      <td>41.875278</td>\n",
       "      <td>3794.886111</td>\n",
       "      <td>0.182498</td>\n",
       "      <td>391.578534</td>\n",
       "      <td>76.357269</td>\n",
       "      <td>79.381498</td>\n",
       "    </tr>\n",
       "    <tr>\n",
       "      <th>2</th>\n",
       "      <td>1.144580e+09</td>\n",
       "      <td>531.413671</td>\n",
       "      <td>437.577342</td>\n",
       "      <td>4754.859494</td>\n",
       "      <td>20.534304</td>\n",
       "      <td>7.341772</td>\n",
       "      <td>1.025316</td>\n",
       "      <td>0.645570</td>\n",
       "      <td>0.291139</td>\n",
       "      <td>20.379747</td>\n",
       "      <td>1440.523277</td>\n",
       "      <td>45.144163</td>\n",
       "      <td>4080.821941</td>\n",
       "      <td>3.631821</td>\n",
       "      <td>27.455731</td>\n",
       "      <td>70.098347</td>\n",
       "      <td>5.387307</td>\n",
       "      <td>559.127286</td>\n",
       "      <td>504.158509</td>\n",
       "      <td>12.993917</td>\n",
       "      <td>1.683030</td>\n",
       "      <td>70.535296</td>\n",
       "      <td>300.678487</td>\n",
       "      <td>8.559398</td>\n",
       "      <td>8.145921</td>\n",
       "      <td>6.166782</td>\n",
       "      <td>2020.312550</td>\n",
       "      <td>329.932342</td>\n",
       "      <td>859.880169</td>\n",
       "      <td>337.624402</td>\n",
       "      <td>5.215051</td>\n",
       "      <td>793.554331</td>\n",
       "      <td>723.533989</td>\n",
       "      <td>186.005098</td>\n",
       "      <td>612.433986</td>\n",
       "      <td>59.281364</td>\n",
       "      <td>0.357932</td>\n",
       "      <td>0.172611</td>\n",
       "      <td>0.054156</td>\n",
       "      <td>18.191702</td>\n",
       "      <td>556.339030</td>\n",
       "      <td>5.842124</td>\n",
       "      <td>8.518952</td>\n",
       "      <td>69.791145</td>\n",
       "      <td>6851.690120</td>\n",
       "      <td>3.789873</td>\n",
       "      <td>1.613924</td>\n",
       "      <td>72.101266</td>\n",
       "      <td>139.987342</td>\n",
       "      <td>212.088608</td>\n",
       "      <td>103408.696203</td>\n",
       "      <td>5.933418</td>\n",
       "      <td>9.080431e+06</td>\n",
       "      <td>2.282121e+08</td>\n",
       "      <td>2.074051e+08</td>\n",
       "      <td>5.936939e+07</td>\n",
       "      <td>5.821948e+07</td>\n",
       "      <td>5.759747e+07</td>\n",
       "      <td>5.897744e+07</td>\n",
       "      <td>2.342150e+08</td>\n",
       "      <td>12020.588851</td>\n",
       "      <td>27001.716443</td>\n",
       "      <td>25737.065139</td>\n",
       "      <td>42.861205</td>\n",
       "      <td>3940.315452</td>\n",
       "      <td>0.154565</td>\n",
       "      <td>267.300398</td>\n",
       "      <td>66.462715</td>\n",
       "      <td>57.002040</td>\n",
       "    </tr>\n",
       "    <tr>\n",
       "      <th>3</th>\n",
       "      <td>1.146007e+09</td>\n",
       "      <td>840.451805</td>\n",
       "      <td>422.605414</td>\n",
       "      <td>5946.360977</td>\n",
       "      <td>15.903985</td>\n",
       "      <td>7.323308</td>\n",
       "      <td>1.142857</td>\n",
       "      <td>0.646617</td>\n",
       "      <td>0.180451</td>\n",
       "      <td>22.586466</td>\n",
       "      <td>1121.744744</td>\n",
       "      <td>20.102338</td>\n",
       "      <td>2429.036232</td>\n",
       "      <td>3.659239</td>\n",
       "      <td>14.717093</td>\n",
       "      <td>82.208718</td>\n",
       "      <td>5.781813</td>\n",
       "      <td>415.147988</td>\n",
       "      <td>393.895633</td>\n",
       "      <td>9.930048</td>\n",
       "      <td>1.418177</td>\n",
       "      <td>89.135849</td>\n",
       "      <td>331.505105</td>\n",
       "      <td>10.581708</td>\n",
       "      <td>7.122419</td>\n",
       "      <td>4.668649</td>\n",
       "      <td>2355.314141</td>\n",
       "      <td>365.934327</td>\n",
       "      <td>516.335314</td>\n",
       "      <td>181.367384</td>\n",
       "      <td>5.466706</td>\n",
       "      <td>764.870016</td>\n",
       "      <td>728.414453</td>\n",
       "      <td>82.067386</td>\n",
       "      <td>1208.462868</td>\n",
       "      <td>21.733908</td>\n",
       "      <td>0.330692</td>\n",
       "      <td>0.142099</td>\n",
       "      <td>0.037672</td>\n",
       "      <td>16.209586</td>\n",
       "      <td>521.199849</td>\n",
       "      <td>5.593776</td>\n",
       "      <td>6.871136</td>\n",
       "      <td>79.021597</td>\n",
       "      <td>4489.853956</td>\n",
       "      <td>3.121053</td>\n",
       "      <td>1.676692</td>\n",
       "      <td>82.916031</td>\n",
       "      <td>110.885496</td>\n",
       "      <td>190.887218</td>\n",
       "      <td>103758.533835</td>\n",
       "      <td>5.608797</td>\n",
       "      <td>9.087870e+06</td>\n",
       "      <td>2.612102e+08</td>\n",
       "      <td>2.702232e+08</td>\n",
       "      <td>5.835642e+07</td>\n",
       "      <td>6.154900e+07</td>\n",
       "      <td>6.422084e+07</td>\n",
       "      <td>6.079753e+07</td>\n",
       "      <td>2.449329e+08</td>\n",
       "      <td>11021.629829</td>\n",
       "      <td>25621.733937</td>\n",
       "      <td>24302.157712</td>\n",
       "      <td>42.297578</td>\n",
       "      <td>3496.698366</td>\n",
       "      <td>0.139832</td>\n",
       "      <td>181.800955</td>\n",
       "      <td>59.778850</td>\n",
       "      <td>39.485206</td>\n",
       "    </tr>\n",
       "    <tr>\n",
       "      <th>4</th>\n",
       "      <td>1.148106e+09</td>\n",
       "      <td>338.996486</td>\n",
       "      <td>209.633108</td>\n",
       "      <td>1832.396486</td>\n",
       "      <td>13.544459</td>\n",
       "      <td>5.608108</td>\n",
       "      <td>0.770270</td>\n",
       "      <td>0.189189</td>\n",
       "      <td>0.108108</td>\n",
       "      <td>23.135135</td>\n",
       "      <td>1962.818533</td>\n",
       "      <td>16.553196</td>\n",
       "      <td>2936.511234</td>\n",
       "      <td>3.830143</td>\n",
       "      <td>41.250912</td>\n",
       "      <td>106.423906</td>\n",
       "      <td>6.322662</td>\n",
       "      <td>550.663047</td>\n",
       "      <td>496.880657</td>\n",
       "      <td>11.316281</td>\n",
       "      <td>1.309169</td>\n",
       "      <td>106.911658</td>\n",
       "      <td>438.899421</td>\n",
       "      <td>12.757390</td>\n",
       "      <td>12.472726</td>\n",
       "      <td>10.743275</td>\n",
       "      <td>2837.180309</td>\n",
       "      <td>483.142460</td>\n",
       "      <td>623.411277</td>\n",
       "      <td>228.936642</td>\n",
       "      <td>5.074656</td>\n",
       "      <td>225.469099</td>\n",
       "      <td>237.864965</td>\n",
       "      <td>92.710854</td>\n",
       "      <td>336.837932</td>\n",
       "      <td>25.384116</td>\n",
       "      <td>0.352727</td>\n",
       "      <td>0.143572</td>\n",
       "      <td>0.035504</td>\n",
       "      <td>16.417471</td>\n",
       "      <td>633.843308</td>\n",
       "      <td>6.578990</td>\n",
       "      <td>10.620817</td>\n",
       "      <td>90.482744</td>\n",
       "      <td>6110.137656</td>\n",
       "      <td>3.301351</td>\n",
       "      <td>1.708108</td>\n",
       "      <td>61.148649</td>\n",
       "      <td>103.878378</td>\n",
       "      <td>165.027027</td>\n",
       "      <td>105772.743243</td>\n",
       "      <td>4.688243</td>\n",
       "      <td>1.051090e+07</td>\n",
       "      <td>2.563261e+08</td>\n",
       "      <td>2.928001e+08</td>\n",
       "      <td>6.478210e+07</td>\n",
       "      <td>6.700511e+07</td>\n",
       "      <td>7.147100e+07</td>\n",
       "      <td>6.944484e+07</td>\n",
       "      <td>2.727799e+08</td>\n",
       "      <td>12136.303335</td>\n",
       "      <td>28150.789629</td>\n",
       "      <td>28023.050139</td>\n",
       "      <td>42.262420</td>\n",
       "      <td>3742.106027</td>\n",
       "      <td>0.137812</td>\n",
       "      <td>120.498338</td>\n",
       "      <td>57.231025</td>\n",
       "      <td>24.031497</td>\n",
       "    </tr>\n",
       "    <tr>\n",
       "      <th>5</th>\n",
       "      <td>1.151510e+09</td>\n",
       "      <td>161.000000</td>\n",
       "      <td>275.970000</td>\n",
       "      <td>3271.670000</td>\n",
       "      <td>34.000000</td>\n",
       "      <td>12.500000</td>\n",
       "      <td>0.000000</td>\n",
       "      <td>0.000000</td>\n",
       "      <td>1.000000</td>\n",
       "      <td>13.000000</td>\n",
       "      <td>3379.718750</td>\n",
       "      <td>4.406250</td>\n",
       "      <td>3776.593750</td>\n",
       "      <td>2.468750</td>\n",
       "      <td>63.000000</td>\n",
       "      <td>67.062500</td>\n",
       "      <td>4.906250</td>\n",
       "      <td>641.843750</td>\n",
       "      <td>534.031250</td>\n",
       "      <td>8.250000</td>\n",
       "      <td>1.026667</td>\n",
       "      <td>44.750000</td>\n",
       "      <td>251.708333</td>\n",
       "      <td>7.479167</td>\n",
       "      <td>12.375000</td>\n",
       "      <td>6.958333</td>\n",
       "      <td>1443.437500</td>\n",
       "      <td>254.083333</td>\n",
       "      <td>778.250000</td>\n",
       "      <td>302.468750</td>\n",
       "      <td>4.569280</td>\n",
       "      <td>54.463290</td>\n",
       "      <td>41.753401</td>\n",
       "      <td>94.187500</td>\n",
       "      <td>59.059874</td>\n",
       "      <td>14.968750</td>\n",
       "      <td>0.394199</td>\n",
       "      <td>0.134880</td>\n",
       "      <td>0.021879</td>\n",
       "      <td>11.062500</td>\n",
       "      <td>682.468750</td>\n",
       "      <td>2.500000</td>\n",
       "      <td>12.375000</td>\n",
       "      <td>82.338068</td>\n",
       "      <td>8540.062500</td>\n",
       "      <td>2.650000</td>\n",
       "      <td>1.700000</td>\n",
       "      <td>0.000000</td>\n",
       "      <td>46.500000</td>\n",
       "      <td>46.500000</td>\n",
       "      <td>119669.500000</td>\n",
       "      <td>4.870000</td>\n",
       "      <td>1.038836e+07</td>\n",
       "      <td>1.756730e+08</td>\n",
       "      <td>1.839565e+08</td>\n",
       "      <td>6.218958e+07</td>\n",
       "      <td>5.402500e+07</td>\n",
       "      <td>4.836875e+07</td>\n",
       "      <td>5.687083e+07</td>\n",
       "      <td>2.215417e+08</td>\n",
       "      <td>12724.395833</td>\n",
       "      <td>31001.916667</td>\n",
       "      <td>34297.416667</td>\n",
       "      <td>42.822917</td>\n",
       "      <td>4583.187500</td>\n",
       "      <td>0.154186</td>\n",
       "      <td>71.118535</td>\n",
       "      <td>80.793342</td>\n",
       "      <td>4.927037</td>\n",
       "    </tr>\n",
       "  </tbody>\n",
       "</table>\n",
       "</div>"
      ],
      "text/plain": [
       "              법정동코드2      대지면적(㎡)     건축면적(㎡)       연면적(㎡)      높이(m)  \\\n",
       "grade2                                                                  \n",
       "1       1.151886e+09  2728.666667  873.075833  5577.250833  29.187500   \n",
       "2       1.144580e+09   531.413671  437.577342  4754.859494  20.534304   \n",
       "3       1.146007e+09   840.451805  422.605414  5946.360977  15.903985   \n",
       "4       1.148106e+09   338.996486  209.633108  1832.396486  13.544459   \n",
       "5       1.151510e+09   161.000000  275.970000  3271.670000  34.000000   \n",
       "\n",
       "             지상층수      지하층수    승용승강기수   비상용승강기수       빌딩연차         공동주택  \\\n",
       "grade2                                                                    \n",
       "1       11.083333  0.833333  0.833333  0.250000  20.250000   899.669444   \n",
       "2        7.341772  1.025316  0.645570  0.291139  20.379747  1440.523277   \n",
       "3        7.323308  1.142857  0.646617  0.180451  22.586466  1121.744744   \n",
       "4        5.608108  0.770270  0.189189  0.108108  23.135135  1962.818533   \n",
       "5       12.500000  0.000000  0.000000  1.000000  13.000000  3379.718750   \n",
       "\n",
       "               공장         단독주택   문화및집회시설       숙박시설        업무시설  위험물저장및처리시설  \\\n",
       "grade2                                                                        \n",
       "1        8.430556  1901.508333  2.130556   8.980556   38.155556    4.722222   \n",
       "2       45.144163  4080.821941  3.631821  27.455731   70.098347    5.387307   \n",
       "3       20.102338  2429.036232  3.659239  14.717093   82.208718    5.781813   \n",
       "4       16.553196  2936.511234  3.830143  41.250912  106.423906    6.322662   \n",
       "5        4.406250  3776.593750  2.468750  63.000000   67.062500    4.906250   \n",
       "\n",
       "         제1종근린생활시설   제2종근린생활시설       창고시설        면적       휴게음식점       일반음식점  \\\n",
       "grade2                                                                        \n",
       "1       305.277778  264.136111   9.294444  2.247944   60.097222  223.766667   \n",
       "2       559.127286  504.158509  12.993917  1.683030   70.535296  300.678487   \n",
       "3       415.147988  393.895633   9.930048  1.418177   89.135849  331.505105   \n",
       "4       550.663047  496.880657  11.316281  1.309169  106.911658  438.899421   \n",
       "5       641.843750  534.031250   8.250000  1.026667   44.750000  251.708333   \n",
       "\n",
       "              제과점       단란주점       유흥주점         사업체수  숙박 및 음식점업 사업체수  \\\n",
       "grade2                                                                 \n",
       "1        8.180556   4.111111   3.619444  1647.350000      261.316667   \n",
       "2        8.559398   8.145921   6.166782  2020.312550      329.932342   \n",
       "3       10.581708   7.122419   4.668649  2355.314141      365.934327   \n",
       "4       12.757390  12.472726  10.743275  2837.180309      483.142460   \n",
       "5        7.479167  12.375000   6.958333  1443.437500      254.083333   \n",
       "\n",
       "          RN_COUNT  RN_COUNT_under4  ROAD_BT_MEAN  RN_length_under4  \\\n",
       "grade2                                                                \n",
       "1       408.738889       101.455556      7.438698       1002.880112   \n",
       "2       859.880169       337.624402      5.215051        793.554331   \n",
       "3       516.335314       181.367384      5.466706        764.870016   \n",
       "4       623.411277       228.936642      5.074656        225.469099   \n",
       "5       778.250000       302.468750      4.569280         54.463290   \n",
       "\n",
       "        RN_length_under3  RN_COUNT_under3  RN_length_under2  RN_COUNT_under2  \\\n",
       "grade2                                                                         \n",
       "1            1157.773336        50.250000        840.525369        12.975000   \n",
       "2             723.533989       186.005098        612.433986        59.281364   \n",
       "3             728.414453        82.067386       1208.462868        21.733908   \n",
       "4             237.864965        92.710854        336.837932        25.384116   \n",
       "5              41.753401        94.187500         59.059874        14.968750   \n",
       "\n",
       "        RN_under4_rate  RN_under3_rate  RN_under2_rate  비상소화장치_count  \\\n",
       "grade2                                                                 \n",
       "1             0.196700        0.109990        0.030348      6.822222   \n",
       "2             0.357932        0.172611        0.054156     18.191702   \n",
       "3             0.330692        0.142099        0.037672     16.209586   \n",
       "4             0.352727        0.143572        0.035504     16.417471   \n",
       "5             0.394199        0.134880        0.021879     11.062500   \n",
       "\n",
       "        소화용수_count  가판대_count     공영주차장수  주차 면(주차 가능 차량 수)          건물수  \\\n",
       "grade2                                                                    \n",
       "1       350.433333   2.888889   5.713889         77.731614  3496.280556   \n",
       "2       556.339030   5.842124   8.518952         69.791145  6851.690120   \n",
       "3       521.199849   5.593776   6.871136         79.021597  4489.853956   \n",
       "4       633.843308   6.578990  10.620817         90.482744  6110.137656   \n",
       "5       682.468750   2.500000  12.375000         82.338068  8540.062500   \n",
       "\n",
       "        소방서거리(㎞)    안전센터거리        부동산          동산      재산피해소계        관할인구(명)  \\\n",
       "grade2                                                                         \n",
       "1       5.958333  2.416667  47.500000  158.333333  205.833333  104842.333333   \n",
       "2       3.789873  1.613924  72.101266  139.987342  212.088608  103408.696203   \n",
       "3       3.121053  1.676692  82.916031  110.885496  190.887218  103758.533835   \n",
       "4       3.301351  1.708108  61.148649  103.878378  165.027027  105772.743243   \n",
       "5       2.650000  1.700000   0.000000   46.500000   46.500000  119669.500000   \n",
       "\n",
       "        관할면적(km2)  면적대비 생활인구 밀도   2018연간가스사용량   2018연간전기사용량  0-5 시간대 생활인구  \\\n",
       "grade2                                                                      \n",
       "1        7.201667  6.516143e+06  2.067040e+08  1.774039e+08  5.895472e+07   \n",
       "2        5.933418  9.080431e+06  2.282121e+08  2.074051e+08  5.936939e+07   \n",
       "3        5.608797  9.087870e+06  2.612102e+08  2.702232e+08  5.835642e+07   \n",
       "4        4.688243  1.051090e+07  2.563261e+08  2.928001e+08  6.478210e+07   \n",
       "5        4.870000  1.038836e+07  1.756730e+08  1.839565e+08  6.218958e+07   \n",
       "\n",
       "        6-11 시간대 생활인구  12-17 시간대 생활인구  18-23 시간대 생활인구  시간대별 생활인구 총합계  \\\n",
       "grade2                                                                 \n",
       "1        5.838611e+07    5.716528e+07    5.760917e+07   2.321722e+08   \n",
       "2        5.821948e+07    5.759747e+07    5.897744e+07   2.342150e+08   \n",
       "3        6.154900e+07    6.422084e+07    6.079753e+07   2.449329e+08   \n",
       "4        6.700511e+07    7.147100e+07    6.944484e+07   2.727799e+08   \n",
       "5        5.402500e+07    4.836875e+07    5.687083e+07   2.215417e+08   \n",
       "\n",
       "               전체세대수            인구          인구밀도     전체평균연령     65세이상인구수  \\\n",
       "grade2                                                                     \n",
       "1       11022.175000  27152.338889  18700.536111  41.875278  3794.886111   \n",
       "2       12020.588851  27001.716443  25737.065139  42.861205  3940.315452   \n",
       "3       11021.629829  25621.733937  24302.157712  42.297578  3496.698366   \n",
       "4       12136.303335  28150.789629  28023.050139  42.262420  3742.106027   \n",
       "5       12724.395833  31001.916667  34297.416667  42.822917  4583.187500   \n",
       "\n",
       "        65세이상인구비율      피해규모예측     화재발생예측      grade  \n",
       "grade2                                               \n",
       "1        0.182498  391.578534  76.357269  79.381498  \n",
       "2        0.154565  267.300398  66.462715  57.002040  \n",
       "3        0.139832  181.800955  59.778850  39.485206  \n",
       "4        0.137812  120.498338  57.231025  24.031497  \n",
       "5        0.154186   71.118535  80.793342   4.927037  "
      ]
     },
     "execution_count": 260,
     "metadata": {},
     "output_type": "execute_result"
    }
   ],
   "source": [
    "final.groupby([\"grade2\"]).mean()"
   ]
  },
  {
   "cell_type": "code",
   "execution_count": 238,
   "metadata": {},
   "outputs": [],
   "source": [
    "final.to_csv(\"final_result/final_grading.csv\",encoding='utf-8-sig',index=False)"
   ]
  },
  {
   "cell_type": "code",
   "execution_count": 247,
   "metadata": {},
   "outputs": [],
   "source": [
    "final.groupby([\"grade2\"]).mean().reset_index().to_csv(\"final_result/grade_mean.csv\",encoding='utf-8-sig',index=False)"
   ]
  },
  {
   "cell_type": "markdown",
   "metadata": {},
   "source": [
    "------------"
   ]
  },
  {
   "cell_type": "code",
   "execution_count": 84,
   "metadata": {},
   "outputs": [],
   "source": [
    "data1 = pd.read_csv(\"final_result/final_grading.csv\")"
   ]
  },
  {
   "cell_type": "code",
   "execution_count": 85,
   "metadata": {},
   "outputs": [],
   "source": [
    "data2 = pd.read_csv(\"건물별_화재빈도_test.csv\",engine='python',encoding='utf-8-sig')"
   ]
  },
  {
   "cell_type": "code",
   "execution_count": 86,
   "metadata": {},
   "outputs": [
    {
     "data": {
      "text/plain": [
       "300"
      ]
     },
     "execution_count": 86,
     "metadata": {},
     "output_type": "execute_result"
    }
   ],
   "source": [
    "len(data3)"
   ]
  },
  {
   "cell_type": "code",
   "execution_count": 87,
   "metadata": {
    "scrolled": true
   },
   "outputs": [],
   "source": [
    "data3 = pd.merge(data1,data2,on='관리건축물대장PK')"
   ]
  },
  {
   "cell_type": "code",
   "execution_count": 91,
   "metadata": {},
   "outputs": [
    {
     "data": {
      "text/html": [
       "<div>\n",
       "<style scoped>\n",
       "    .dataframe tbody tr th:only-of-type {\n",
       "        vertical-align: middle;\n",
       "    }\n",
       "\n",
       "    .dataframe tbody tr th {\n",
       "        vertical-align: top;\n",
       "    }\n",
       "\n",
       "    .dataframe thead th {\n",
       "        text-align: right;\n",
       "    }\n",
       "</style>\n",
       "<table border=\"1\" class=\"dataframe\">\n",
       "  <thead>\n",
       "    <tr style=\"text-align: right;\">\n",
       "      <th></th>\n",
       "      <th>세대수(세대)</th>\n",
       "    </tr>\n",
       "    <tr>\n",
       "      <th>grade2</th>\n",
       "      <th></th>\n",
       "    </tr>\n",
       "  </thead>\n",
       "  <tbody>\n",
       "    <tr>\n",
       "      <th>1</th>\n",
       "      <td>60.166667</td>\n",
       "    </tr>\n",
       "    <tr>\n",
       "      <th>2</th>\n",
       "      <td>47.630435</td>\n",
       "    </tr>\n",
       "    <tr>\n",
       "      <th>3</th>\n",
       "      <td>47.597826</td>\n",
       "    </tr>\n",
       "    <tr>\n",
       "      <th>4</th>\n",
       "      <td>33.166667</td>\n",
       "    </tr>\n",
       "    <tr>\n",
       "      <th>5</th>\n",
       "      <td>21.250000</td>\n",
       "    </tr>\n",
       "  </tbody>\n",
       "</table>\n",
       "</div>"
      ],
      "text/plain": [
       "          세대수(세대)\n",
       "grade2           \n",
       "1       60.166667\n",
       "2       47.630435\n",
       "3       47.597826\n",
       "4       33.166667\n",
       "5       21.250000"
      ]
     },
     "execution_count": 91,
     "metadata": {},
     "output_type": "execute_result"
    }
   ],
   "source": [
    "data3.groupby('grade2').mean()[['세대수(세대)']]"
   ]
  }
 ],
 "metadata": {
  "kernelspec": {
   "display_name": "Python 3",
   "language": "python",
   "name": "python3"
  },
  "language_info": {
   "codemirror_mode": {
    "name": "ipython",
    "version": 3
   },
   "file_extension": ".py",
   "mimetype": "text/x-python",
   "name": "python",
   "nbconvert_exporter": "python",
   "pygments_lexer": "ipython3",
   "version": "3.7.0"
  }
 },
 "nbformat": 4,
 "nbformat_minor": 2
}
